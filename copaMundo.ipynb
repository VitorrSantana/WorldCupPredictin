{
 "cells": [
  {
   "cell_type": "markdown",
   "metadata": {},
   "source": [
    "### Importação de Bibliotecas"
   ]
  },
  {
   "cell_type": "code",
   "execution_count": 1,
   "metadata": {},
   "outputs": [],
   "source": [
    "from sklearn.ensemble import RandomForestClassifier\n",
    "from sklearn.model_selection import train_test_split\n",
    "from sklearn.metrics import accuracy_score\n",
    "import pandas as pd \n",
    "import numpy as np"
   ]
  },
  {
   "cell_type": "markdown",
   "metadata": {},
   "source": [
    "### Leitura e Tratamento dos Dados"
   ]
  },
  {
   "cell_type": "code",
   "execution_count": 2,
   "metadata": {},
   "outputs": [],
   "source": [
    "jogosCopa   = pd.read_csv('archive/WorldCupMatches.csv',encoding='utf-8')\n",
    "ranking     = pd.read_csv('archive/fifa_ranking-2022-10-06.csv.zip')\n",
    "jogos       = pd.read_csv('archive/results.csv')"
   ]
  },
  {
   "cell_type": "code",
   "execution_count": 3,
   "metadata": {},
   "outputs": [],
   "source": [
    "jogos = jogos[(jogos[\"date\"] < \"2018-08-01\")].dropna()"
   ]
  },
  {
   "cell_type": "code",
   "execution_count": 4,
   "metadata": {},
   "outputs": [
    {
     "data": {
      "text/html": [
       "<div>\n",
       "<style scoped>\n",
       "    .dataframe tbody tr th:only-of-type {\n",
       "        vertical-align: middle;\n",
       "    }\n",
       "\n",
       "    .dataframe tbody tr th {\n",
       "        vertical-align: top;\n",
       "    }\n",
       "\n",
       "    .dataframe thead th {\n",
       "        text-align: right;\n",
       "    }\n",
       "</style>\n",
       "<table border=\"1\" class=\"dataframe\">\n",
       "  <thead>\n",
       "    <tr style=\"text-align: right;\">\n",
       "      <th></th>\n",
       "      <th>date</th>\n",
       "      <th>home_team</th>\n",
       "      <th>away_team</th>\n",
       "      <th>home_score</th>\n",
       "      <th>away_score</th>\n",
       "      <th>tournament</th>\n",
       "      <th>city</th>\n",
       "      <th>country</th>\n",
       "      <th>neutral</th>\n",
       "    </tr>\n",
       "  </thead>\n",
       "  <tbody>\n",
       "    <tr>\n",
       "      <th>29155</th>\n",
       "      <td>2006-11-23</td>\n",
       "      <td>Sápmi</td>\n",
       "      <td>Monaco</td>\n",
       "      <td>14.0</td>\n",
       "      <td>0.0</td>\n",
       "      <td>Viva World Cup</td>\n",
       "      <td>Hyères</td>\n",
       "      <td>France</td>\n",
       "      <td>True</td>\n",
       "    </tr>\n",
       "    <tr>\n",
       "      <th>29160</th>\n",
       "      <td>2006-11-24</td>\n",
       "      <td>Sápmi</td>\n",
       "      <td>Monaco</td>\n",
       "      <td>21.0</td>\n",
       "      <td>1.0</td>\n",
       "      <td>Viva World Cup</td>\n",
       "      <td>Hyères</td>\n",
       "      <td>France</td>\n",
       "      <td>True</td>\n",
       "    </tr>\n",
       "    <tr>\n",
       "      <th>30765</th>\n",
       "      <td>2008-07-07</td>\n",
       "      <td>Sápmi</td>\n",
       "      <td>Iraqi Kurdistan</td>\n",
       "      <td>2.0</td>\n",
       "      <td>2.0</td>\n",
       "      <td>Viva World Cup</td>\n",
       "      <td>Gällivare</td>\n",
       "      <td>Sweden</td>\n",
       "      <td>False</td>\n",
       "    </tr>\n",
       "    <tr>\n",
       "      <th>30769</th>\n",
       "      <td>2008-07-09</td>\n",
       "      <td>Sápmi</td>\n",
       "      <td>Arameans Suryoye</td>\n",
       "      <td>0.0</td>\n",
       "      <td>1.0</td>\n",
       "      <td>Viva World Cup</td>\n",
       "      <td>Gällivare</td>\n",
       "      <td>Sweden</td>\n",
       "      <td>False</td>\n",
       "    </tr>\n",
       "    <tr>\n",
       "      <th>30772</th>\n",
       "      <td>2008-07-11</td>\n",
       "      <td>Sápmi</td>\n",
       "      <td>Padania</td>\n",
       "      <td>0.0</td>\n",
       "      <td>2.0</td>\n",
       "      <td>Viva World Cup</td>\n",
       "      <td>Malmberget</td>\n",
       "      <td>Sweden</td>\n",
       "      <td>False</td>\n",
       "    </tr>\n",
       "    <tr>\n",
       "      <th>30775</th>\n",
       "      <td>2008-07-12</td>\n",
       "      <td>Sápmi</td>\n",
       "      <td>Provence</td>\n",
       "      <td>4.0</td>\n",
       "      <td>2.0</td>\n",
       "      <td>Viva World Cup</td>\n",
       "      <td>Gällivare</td>\n",
       "      <td>Sweden</td>\n",
       "      <td>False</td>\n",
       "    </tr>\n",
       "    <tr>\n",
       "      <th>30776</th>\n",
       "      <td>2008-07-13</td>\n",
       "      <td>Sápmi</td>\n",
       "      <td>Iraqi Kurdistan</td>\n",
       "      <td>3.0</td>\n",
       "      <td>1.0</td>\n",
       "      <td>Viva World Cup</td>\n",
       "      <td>Malmberget</td>\n",
       "      <td>Sweden</td>\n",
       "      <td>False</td>\n",
       "    </tr>\n",
       "    <tr>\n",
       "      <th>31692</th>\n",
       "      <td>2009-06-23</td>\n",
       "      <td>Sápmi</td>\n",
       "      <td>Provence</td>\n",
       "      <td>1.0</td>\n",
       "      <td>2.0</td>\n",
       "      <td>Viva World Cup</td>\n",
       "      <td>Varese</td>\n",
       "      <td>Italy</td>\n",
       "      <td>True</td>\n",
       "    </tr>\n",
       "    <tr>\n",
       "      <th>31696</th>\n",
       "      <td>2009-06-24</td>\n",
       "      <td>Sápmi</td>\n",
       "      <td>Gozo</td>\n",
       "      <td>7.0</td>\n",
       "      <td>2.0</td>\n",
       "      <td>Viva World Cup</td>\n",
       "      <td>Brescia</td>\n",
       "      <td>Italy</td>\n",
       "      <td>True</td>\n",
       "    </tr>\n",
       "    <tr>\n",
       "      <th>36362</th>\n",
       "      <td>2014-06-02</td>\n",
       "      <td>Sápmi</td>\n",
       "      <td>Abkhazia</td>\n",
       "      <td>1.0</td>\n",
       "      <td>2.0</td>\n",
       "      <td>CONIFA World Football Cup</td>\n",
       "      <td>Östersund</td>\n",
       "      <td>Sweden</td>\n",
       "      <td>False</td>\n",
       "    </tr>\n",
       "    <tr>\n",
       "      <th>36374</th>\n",
       "      <td>2014-06-03</td>\n",
       "      <td>Sápmi</td>\n",
       "      <td>Occitania</td>\n",
       "      <td>0.0</td>\n",
       "      <td>1.0</td>\n",
       "      <td>CONIFA World Football Cup</td>\n",
       "      <td>Östersund</td>\n",
       "      <td>Sweden</td>\n",
       "      <td>False</td>\n",
       "    </tr>\n",
       "    <tr>\n",
       "      <th>36391</th>\n",
       "      <td>2014-06-05</td>\n",
       "      <td>Sápmi</td>\n",
       "      <td>Tamil Eelam</td>\n",
       "      <td>4.0</td>\n",
       "      <td>2.0</td>\n",
       "      <td>CONIFA World Football Cup</td>\n",
       "      <td>Östersund</td>\n",
       "      <td>Sweden</td>\n",
       "      <td>False</td>\n",
       "    </tr>\n",
       "    <tr>\n",
       "      <th>36415</th>\n",
       "      <td>2014-06-07</td>\n",
       "      <td>Sápmi</td>\n",
       "      <td>Artsakh</td>\n",
       "      <td>1.0</td>\n",
       "      <td>5.0</td>\n",
       "      <td>CONIFA World Football Cup</td>\n",
       "      <td>Östersund</td>\n",
       "      <td>Sweden</td>\n",
       "      <td>False</td>\n",
       "    </tr>\n",
       "    <tr>\n",
       "      <th>38245</th>\n",
       "      <td>2016-05-29</td>\n",
       "      <td>Sápmi</td>\n",
       "      <td>Somaliland</td>\n",
       "      <td>5.0</td>\n",
       "      <td>0.0</td>\n",
       "      <td>CONIFA World Football Cup</td>\n",
       "      <td>Gagra</td>\n",
       "      <td>Georgia</td>\n",
       "      <td>True</td>\n",
       "    </tr>\n",
       "    <tr>\n",
       "      <th>38252</th>\n",
       "      <td>2016-05-30</td>\n",
       "      <td>Sápmi</td>\n",
       "      <td>Panjab</td>\n",
       "      <td>0.0</td>\n",
       "      <td>1.0</td>\n",
       "      <td>CONIFA World Football Cup</td>\n",
       "      <td>Gagra</td>\n",
       "      <td>Georgia</td>\n",
       "      <td>True</td>\n",
       "    </tr>\n",
       "    <tr>\n",
       "      <th>38337</th>\n",
       "      <td>2016-06-04</td>\n",
       "      <td>Sápmi</td>\n",
       "      <td>Western Armenia</td>\n",
       "      <td>3.0</td>\n",
       "      <td>0.0</td>\n",
       "      <td>CONIFA World Football Cup</td>\n",
       "      <td>Sukhumi</td>\n",
       "      <td>Georgia</td>\n",
       "      <td>True</td>\n",
       "    </tr>\n",
       "  </tbody>\n",
       "</table>\n",
       "</div>"
      ],
      "text/plain": [
       "             date home_team         away_team  home_score  away_score  \\\n",
       "29155  2006-11-23     Sápmi            Monaco        14.0         0.0   \n",
       "29160  2006-11-24     Sápmi            Monaco        21.0         1.0   \n",
       "30765  2008-07-07     Sápmi   Iraqi Kurdistan         2.0         2.0   \n",
       "30769  2008-07-09     Sápmi  Arameans Suryoye         0.0         1.0   \n",
       "30772  2008-07-11     Sápmi           Padania         0.0         2.0   \n",
       "30775  2008-07-12     Sápmi          Provence         4.0         2.0   \n",
       "30776  2008-07-13     Sápmi   Iraqi Kurdistan         3.0         1.0   \n",
       "31692  2009-06-23     Sápmi          Provence         1.0         2.0   \n",
       "31696  2009-06-24     Sápmi              Gozo         7.0         2.0   \n",
       "36362  2014-06-02     Sápmi          Abkhazia         1.0         2.0   \n",
       "36374  2014-06-03     Sápmi         Occitania         0.0         1.0   \n",
       "36391  2014-06-05     Sápmi       Tamil Eelam         4.0         2.0   \n",
       "36415  2014-06-07     Sápmi           Artsakh         1.0         5.0   \n",
       "38245  2016-05-29     Sápmi        Somaliland         5.0         0.0   \n",
       "38252  2016-05-30     Sápmi            Panjab         0.0         1.0   \n",
       "38337  2016-06-04     Sápmi   Western Armenia         3.0         0.0   \n",
       "\n",
       "                      tournament        city  country  neutral  \n",
       "29155             Viva World Cup      Hyères   France     True  \n",
       "29160             Viva World Cup      Hyères   France     True  \n",
       "30765             Viva World Cup   Gällivare   Sweden    False  \n",
       "30769             Viva World Cup   Gällivare   Sweden    False  \n",
       "30772             Viva World Cup  Malmberget   Sweden    False  \n",
       "30775             Viva World Cup   Gällivare   Sweden    False  \n",
       "30776             Viva World Cup  Malmberget   Sweden    False  \n",
       "31692             Viva World Cup      Varese    Italy     True  \n",
       "31696             Viva World Cup     Brescia    Italy     True  \n",
       "36362  CONIFA World Football Cup   Östersund   Sweden    False  \n",
       "36374  CONIFA World Football Cup   Östersund   Sweden    False  \n",
       "36391  CONIFA World Football Cup   Östersund   Sweden    False  \n",
       "36415  CONIFA World Football Cup   Östersund   Sweden    False  \n",
       "38245  CONIFA World Football Cup       Gagra  Georgia     True  \n",
       "38252  CONIFA World Football Cup       Gagra  Georgia     True  \n",
       "38337  CONIFA World Football Cup     Sukhumi  Georgia     True  "
      ]
     },
     "execution_count": 4,
     "metadata": {},
     "output_type": "execute_result"
    }
   ],
   "source": [
    "jogos[jogos['home_team']=='Sápmi']"
   ]
  },
  {
   "cell_type": "code",
   "execution_count": 5,
   "metadata": {},
   "outputs": [
    {
     "data": {
      "text/plain": [
       "away_team\n",
       "England                1040.0\n",
       "Germany                 869.0\n",
       "Sweden                  863.0\n",
       "Hungary                 825.0\n",
       "Uruguay                 766.0\n",
       "Brazil                  735.0\n",
       "Netherlands             619.0\n",
       "Poland                  612.0\n",
       "Scotland                611.0\n",
       "Argentina               608.0\n",
       "Russia                  569.0\n",
       "South Korea             569.0\n",
       "Zambia                  554.0\n",
       "Austria                 553.0\n",
       "Norway                  550.0\n",
       "Spain                   538.0\n",
       "Denmark                 538.0\n",
       "Paraguay                522.0\n",
       "France                  516.0\n",
       "Yugoslavia              501.0\n",
       "Belgium                 501.0\n",
       "Trinidad and Tobago     499.0\n",
       "Mexico                  474.0\n",
       "Romania                 473.0\n",
       "Italy                   467.0\n",
       "Switzerland             464.0\n",
       "Bulgaria                419.0\n",
       "Ghana                   412.0\n",
       "Japan                   407.0\n",
       "Uganda                  397.0\n",
       "Thailand                391.0\n",
       "Finland                 387.0\n",
       "Czechoslovakia          368.0\n",
       "Portugal                366.0\n",
       "Peru                    353.0\n",
       "Chile                   352.0\n",
       "Australia               351.0\n",
       "Costa Rica              349.0\n",
       "Wales                   348.0\n",
       "Ivory Coast             348.0\n",
       "Senegal                 340.0\n",
       "China PR                338.0\n",
       "Nigeria                 335.0\n",
       "DR Congo                333.0\n",
       "Turkey                  332.0\n",
       "Zimbabwe                318.0\n",
       "Cameroon                316.0\n",
       "Iran                    314.0\n",
       "Honduras                310.0\n",
       "Iraq                    308.0\n",
       "Name: away_score, dtype: float64"
      ]
     },
     "execution_count": 5,
     "metadata": {},
     "output_type": "execute_result"
    }
   ],
   "source": [
    "jogos.groupby(['home_team'])['home_score'].sum().sort_values(ascending=False).head(50)\n",
    "jogos.groupby(['away_team'])['away_score'].sum().sort_values(ascending=False).head(50)"
   ]
  },
  {
   "cell_type": "code",
   "execution_count": 6,
   "metadata": {},
   "outputs": [],
   "source": [
    "import pandas as pd\n",
    "import re\n",
    "df =  pd.read_csv('archive/results.csv') #games between national teams\n",
    "df[\"date\"] = pd.to_datetime(df[\"date\"])\n",
    "df = df[(df[\"date\"] >= \"2014-7-13\")].reset_index(drop=True) #games at the 2022 wc cycle\n",
    "df_wc = df #pre-wc outcomes\n",
    "\n",
    "rank = pd.read_csv('archive/fifa_ranking-2022-10-06.csv.zip') #rankings\n",
    "rank[\"rank_date\"] = pd.to_datetime(rank[\"rank_date\"]) \n",
    "rank = rank[(rank[\"rank_date\"] >= \"2014-7-13\")].reset_index(drop=True) #selecting games from the 2022 wc cycle\n",
    "rank[\"country_full\"] = rank[\"country_full\"].str.replace(\"IR Iran\", \"Iran\").str.replace(\"Korea Republic\", \"South Korea\").str.replace(\"USA\", \"United States\") #ajustando nomes de algumas seleções\n",
    "rank = rank.set_index(['rank_date']).groupby(['country_full'], group_keys=False).resample('D').first().fillna(method='ffill').reset_index()\n",
    "rank_wc = rank #dataframe with rankings\n",
    "\n",
    "#Making the merge\n",
    "df_wc_ranked = df_wc.merge(rank[[\"country_full\", \"total_points\", \"previous_points\", \"rank\", \"rank_change\", \"rank_date\"]], left_on=[\"date\", \"home_team\"], right_on=[\"rank_date\", \"country_full\"]).drop([\"rank_date\", \"country_full\"], axis=1)\n",
    "df_wc_ranked = df_wc_ranked.merge(rank[[\"country_full\", \"total_points\", \"previous_points\", \"rank\", \"rank_change\", \"rank_date\"]], left_on=[\"date\", \"away_team\"], right_on=[\"rank_date\", \"country_full\"], suffixes=(\"_home\", \"_away\")).drop([\"rank_date\", \"country_full\"], axis=1)\n",
    "df_wc_ranked.dropna(inplace=True)"
   ]
  },
  {
   "cell_type": "code",
   "execution_count": 7,
   "metadata": {},
   "outputs": [],
   "source": [
    "#Target -> 1 Vitoria da Casa,2 Vitoria  do visitante e 0  empate\n",
    "df_wc_ranked['Target'] = np.where(df_wc_ranked['home_score']>df_wc_ranked['away_score'],1,\n",
    "                         np.where(df_wc_ranked['home_score']<df_wc_ranked['away_score'],2,0))"
   ]
  },
  {
   "cell_type": "code",
   "execution_count": 8,
   "metadata": {},
   "outputs": [],
   "source": [
    "df_wc_ranked['flag_amistoso'] = np.where(df_wc_ranked['tournament']=='Friendly',1,0)\n",
    "df_wc_ranked['flag_is_campo_neutro'] = np.where(df_wc_ranked['neutral']==True,1,0)"
   ]
  },
  {
   "cell_type": "code",
   "execution_count": 9,
   "metadata": {},
   "outputs": [
    {
     "data": {
      "text/html": [
       "<div>\n",
       "<style scoped>\n",
       "    .dataframe tbody tr th:only-of-type {\n",
       "        vertical-align: middle;\n",
       "    }\n",
       "\n",
       "    .dataframe tbody tr th {\n",
       "        vertical-align: top;\n",
       "    }\n",
       "\n",
       "    .dataframe thead th {\n",
       "        text-align: right;\n",
       "    }\n",
       "</style>\n",
       "<table border=\"1\" class=\"dataframe\">\n",
       "  <thead>\n",
       "    <tr style=\"text-align: right;\">\n",
       "      <th></th>\n",
       "      <th>pais</th>\n",
       "      <th>saldoDeGols</th>\n",
       "    </tr>\n",
       "  </thead>\n",
       "  <tbody>\n",
       "    <tr>\n",
       "      <th>0</th>\n",
       "      <td>Abkhazia</td>\n",
       "      <td>21.0</td>\n",
       "    </tr>\n",
       "    <tr>\n",
       "      <th>1</th>\n",
       "      <td>Afghanistan</td>\n",
       "      <td>-97.0</td>\n",
       "    </tr>\n",
       "    <tr>\n",
       "      <th>2</th>\n",
       "      <td>Albania</td>\n",
       "      <td>-215.0</td>\n",
       "    </tr>\n",
       "    <tr>\n",
       "      <th>3</th>\n",
       "      <td>Alderney</td>\n",
       "      <td>-54.0</td>\n",
       "    </tr>\n",
       "    <tr>\n",
       "      <th>4</th>\n",
       "      <td>Algeria</td>\n",
       "      <td>164.0</td>\n",
       "    </tr>\n",
       "    <tr>\n",
       "      <th>...</th>\n",
       "      <td>...</td>\n",
       "      <td>...</td>\n",
       "    </tr>\n",
       "    <tr>\n",
       "      <th>302</th>\n",
       "      <td>Yugoslavia</td>\n",
       "      <td>200.0</td>\n",
       "    </tr>\n",
       "    <tr>\n",
       "      <th>303</th>\n",
       "      <td>Zambia</td>\n",
       "      <td>399.0</td>\n",
       "    </tr>\n",
       "    <tr>\n",
       "      <th>304</th>\n",
       "      <td>Zanzibar</td>\n",
       "      <td>-247.0</td>\n",
       "    </tr>\n",
       "    <tr>\n",
       "      <th>305</th>\n",
       "      <td>Zimbabwe</td>\n",
       "      <td>94.0</td>\n",
       "    </tr>\n",
       "    <tr>\n",
       "      <th>306</th>\n",
       "      <td>Åland Islands</td>\n",
       "      <td>-2.0</td>\n",
       "    </tr>\n",
       "  </tbody>\n",
       "</table>\n",
       "<p>307 rows × 2 columns</p>\n",
       "</div>"
      ],
      "text/plain": [
       "              pais  saldoDeGols\n",
       "0         Abkhazia         21.0\n",
       "1      Afghanistan        -97.0\n",
       "2          Albania       -215.0\n",
       "3         Alderney        -54.0\n",
       "4          Algeria        164.0\n",
       "..             ...          ...\n",
       "302     Yugoslavia        200.0\n",
       "303         Zambia        399.0\n",
       "304       Zanzibar       -247.0\n",
       "305       Zimbabwe         94.0\n",
       "306  Åland Islands         -2.0\n",
       "\n",
       "[307 rows x 2 columns]"
      ]
     },
     "execution_count": 9,
     "metadata": {},
     "output_type": "execute_result"
    }
   ],
   "source": [
    "golsTeam = jogos.groupby(['home_team'])['home_score'].sum().reset_index()\n",
    "golsTeam.columns = ['pais','gols'] \n",
    "golsAway = jogos.groupby(['away_team'])['away_score'].sum().reset_index() \n",
    "golsAway.columns = ['pais','gols'] \n",
    "golsMarcados = pd.concat([golsTeam,golsAway])\n",
    "golsMarcados = golsMarcados.groupby(['pais'])['gols'].sum().reset_index()\n",
    "\n",
    "golsSofridosTeam = jogos.groupby(['home_team'])['away_score'].sum().reset_index()\n",
    "golsSofridosTeam.columns = ['pais','gols'] \n",
    "golsSofridosAway = jogos.groupby(['away_team'])['home_score'].sum().reset_index() \n",
    "golsSofridosAway.columns = ['pais','gols'] \n",
    "golsSofridos = pd.concat([golsSofridosTeam,golsSofridosAway])\n",
    "golsSofridos = golsSofridos.groupby(['pais'])['gols'].sum().reset_index()\n",
    "\n",
    "golsMarcados['saldoDeGols'] = golsMarcados['gols']-golsSofridos['gols']\n",
    "golsMarcados = golsMarcados.drop('gols',axis=1)\n",
    "golsMarcados"
   ]
  },
  {
   "cell_type": "code",
   "execution_count": 10,
   "metadata": {},
   "outputs": [],
   "source": [
    "jogosCopa = jogosCopa.drop_duplicates('MatchID')\n",
    "jogosCopa = jogosCopa.dropna()\n",
    "jogosCopa = jogosCopa.loc[:,['Year', 'Stage', 'Home Team Name',\n",
    "  'Home Team Goals', 'Away Team Goals','Win conditions','Away Team Name',\n",
    "  'Attendance', 'Half-time Home Goals','Half-time Away Goals',\n",
    "  'RoundID', 'MatchID']]\n",
    "jogosCopa = jogosCopa.replace('Germany FR','Germany')"
   ]
  },
  {
   "cell_type": "code",
   "execution_count": 11,
   "metadata": {},
   "outputs": [],
   "source": [
    "jogosCopa['TargetCopa'] = np.where(jogosCopa['Home Team Goals']>jogosCopa['Away Team Goals'],jogosCopa['Home Team Name'],\n",
    "                      np.where(jogosCopa['Home Team Goals']<jogosCopa['Away Team Goals'],jogosCopa['Away Team Name'],\n",
    "                      np.where(jogosCopa.apply(lambda x: x['Home Team Name'] in x['Win conditions'],axis=1),jogosCopa['Home Team Name'],\n",
    "                      np.where(jogosCopa.apply(lambda x: x['Away Team Name'] in x['Win conditions'],axis=1),jogosCopa['Away Team Name'],\n",
    "                      'Empate'\n",
    "                    ))))"
   ]
  },
  {
   "cell_type": "code",
   "execution_count": 12,
   "metadata": {},
   "outputs": [],
   "source": [
    "#Quantidade de Copas Ganhas\n",
    "#vencedores = jogosCopa[jogosCopa['Stage']=='Final'].groupby(['TargetCopa'])['TargetCopa'].count().sort_values(ascending=False).to_frame('QtdCopas').reset_index()"
   ]
  },
  {
   "cell_type": "code",
   "execution_count": 13,
   "metadata": {},
   "outputs": [],
   "source": [
    "#df_wc_ranked = df_wc_ranked.merge(vencedores,how='left',right_on=['TargetCopa'],left_on=['home_team'])\n",
    "#df_wc_ranked = df_wc_ranked.merge(vencedores,how='left',right_on=['TargetCopa'],left_on=['away_team'],suffixes=(\"_home\", \"_away\")).drop(['TargetCopa_home','TargetCopa_away'],axis=1).fillna(0)"
   ]
  },
  {
   "cell_type": "code",
   "execution_count": 14,
   "metadata": {},
   "outputs": [],
   "source": [
    "df_wc_ranked = df_wc_ranked.merge(golsMarcados,how='left',right_on=['pais'],left_on=['home_team'])\n",
    "df_wc_ranked = df_wc_ranked.merge(golsMarcados,how='left',right_on=['pais'],left_on=['away_team'],suffixes=(\"_home\", \"_away\")).drop(['pais_home','pais_away'],axis=1).fillna(0)"
   ]
  },
  {
   "cell_type": "code",
   "execution_count": 15,
   "metadata": {},
   "outputs": [
    {
     "data": {
      "text/html": [
       "<div>\n",
       "<style scoped>\n",
       "    .dataframe tbody tr th:only-of-type {\n",
       "        vertical-align: middle;\n",
       "    }\n",
       "\n",
       "    .dataframe tbody tr th {\n",
       "        vertical-align: top;\n",
       "    }\n",
       "\n",
       "    .dataframe thead th {\n",
       "        text-align: right;\n",
       "    }\n",
       "</style>\n",
       "<table border=\"1\" class=\"dataframe\">\n",
       "  <thead>\n",
       "    <tr style=\"text-align: right;\">\n",
       "      <th></th>\n",
       "      <th>total_points_home</th>\n",
       "      <th>previous_points_home</th>\n",
       "      <th>rank_home</th>\n",
       "      <th>total_points_away</th>\n",
       "      <th>previous_points_away</th>\n",
       "      <th>rank_away</th>\n",
       "      <th>saldoDeGols_home</th>\n",
       "      <th>saldoDeGols_away</th>\n",
       "    </tr>\n",
       "  </thead>\n",
       "  <tbody>\n",
       "    <tr>\n",
       "      <th>0</th>\n",
       "      <td>332.00</td>\n",
       "      <td>375.00</td>\n",
       "      <td>99.0</td>\n",
       "      <td>199.00</td>\n",
       "      <td>201.00</td>\n",
       "      <td>136.0</td>\n",
       "      <td>-125.0</td>\n",
       "      <td>-79.0</td>\n",
       "    </tr>\n",
       "    <tr>\n",
       "      <th>1</th>\n",
       "      <td>469.00</td>\n",
       "      <td>565.00</td>\n",
       "      <td>64.0</td>\n",
       "      <td>64.00</td>\n",
       "      <td>66.00</td>\n",
       "      <td>182.0</td>\n",
       "      <td>-101.0</td>\n",
       "      <td>-139.0</td>\n",
       "    </tr>\n",
       "    <tr>\n",
       "      <th>2</th>\n",
       "      <td>358.00</td>\n",
       "      <td>390.00</td>\n",
       "      <td>87.0</td>\n",
       "      <td>208.00</td>\n",
       "      <td>196.00</td>\n",
       "      <td>133.0</td>\n",
       "      <td>238.0</td>\n",
       "      <td>-180.0</td>\n",
       "    </tr>\n",
       "    <tr>\n",
       "      <th>3</th>\n",
       "      <td>354.00</td>\n",
       "      <td>386.00</td>\n",
       "      <td>91.0</td>\n",
       "      <td>234.00</td>\n",
       "      <td>247.00</td>\n",
       "      <td>121.0</td>\n",
       "      <td>-207.0</td>\n",
       "      <td>-47.0</td>\n",
       "    </tr>\n",
       "    <tr>\n",
       "      <th>4</th>\n",
       "      <td>375.00</td>\n",
       "      <td>393.00</td>\n",
       "      <td>82.0</td>\n",
       "      <td>276.00</td>\n",
       "      <td>271.00</td>\n",
       "      <td>109.0</td>\n",
       "      <td>-43.0</td>\n",
       "      <td>-40.0</td>\n",
       "    </tr>\n",
       "    <tr>\n",
       "      <th>...</th>\n",
       "      <td>...</td>\n",
       "      <td>...</td>\n",
       "      <td>...</td>\n",
       "      <td>...</td>\n",
       "      <td>...</td>\n",
       "      <td>...</td>\n",
       "      <td>...</td>\n",
       "      <td>...</td>\n",
       "    </tr>\n",
       "    <tr>\n",
       "      <th>6449</th>\n",
       "      <td>1361.81</td>\n",
       "      <td>1361.81</td>\n",
       "      <td>66.0</td>\n",
       "      <td>1379.61</td>\n",
       "      <td>1379.61</td>\n",
       "      <td>63.0</td>\n",
       "      <td>-215.0</td>\n",
       "      <td>-197.0</td>\n",
       "    </tr>\n",
       "    <tr>\n",
       "      <th>6450</th>\n",
       "      <td>1488.57</td>\n",
       "      <td>1488.57</td>\n",
       "      <td>36.0</td>\n",
       "      <td>1549.53</td>\n",
       "      <td>1549.53</td>\n",
       "      <td>25.0</td>\n",
       "      <td>-139.0</td>\n",
       "      <td>119.0</td>\n",
       "    </tr>\n",
       "    <tr>\n",
       "      <th>6451</th>\n",
       "      <td>1563.44</td>\n",
       "      <td>1563.44</td>\n",
       "      <td>20.0</td>\n",
       "      <td>1372.48</td>\n",
       "      <td>1372.48</td>\n",
       "      <td>65.0</td>\n",
       "      <td>698.0</td>\n",
       "      <td>-6.0</td>\n",
       "    </tr>\n",
       "    <tr>\n",
       "      <th>6452</th>\n",
       "      <td>1183.90</td>\n",
       "      <td>1183.90</td>\n",
       "      <td>106.0</td>\n",
       "      <td>1180.52</td>\n",
       "      <td>1180.52</td>\n",
       "      <td>108.0</td>\n",
       "      <td>-10.0</td>\n",
       "      <td>-470.0</td>\n",
       "    </tr>\n",
       "    <tr>\n",
       "      <th>6453</th>\n",
       "      <td>1441.45</td>\n",
       "      <td>1441.45</td>\n",
       "      <td>49.0</td>\n",
       "      <td>1399.10</td>\n",
       "      <td>1399.10</td>\n",
       "      <td>58.0</td>\n",
       "      <td>-89.0</td>\n",
       "      <td>-539.0</td>\n",
       "    </tr>\n",
       "  </tbody>\n",
       "</table>\n",
       "<p>6454 rows × 8 columns</p>\n",
       "</div>"
      ],
      "text/plain": [
       "      total_points_home  previous_points_home  rank_home  total_points_away  \\\n",
       "0                332.00                375.00       99.0             199.00   \n",
       "1                469.00                565.00       64.0              64.00   \n",
       "2                358.00                390.00       87.0             208.00   \n",
       "3                354.00                386.00       91.0             234.00   \n",
       "4                375.00                393.00       82.0             276.00   \n",
       "...                 ...                   ...        ...                ...   \n",
       "6449            1361.81               1361.81       66.0            1379.61   \n",
       "6450            1488.57               1488.57       36.0            1549.53   \n",
       "6451            1563.44               1563.44       20.0            1372.48   \n",
       "6452            1183.90               1183.90      106.0            1180.52   \n",
       "6453            1441.45               1441.45       49.0            1399.10   \n",
       "\n",
       "      previous_points_away  rank_away  saldoDeGols_home  saldoDeGols_away  \n",
       "0                   201.00      136.0            -125.0             -79.0  \n",
       "1                    66.00      182.0            -101.0            -139.0  \n",
       "2                   196.00      133.0             238.0            -180.0  \n",
       "3                   247.00      121.0            -207.0             -47.0  \n",
       "4                   271.00      109.0             -43.0             -40.0  \n",
       "...                    ...        ...               ...               ...  \n",
       "6449               1379.61       63.0            -215.0            -197.0  \n",
       "6450               1549.53       25.0            -139.0             119.0  \n",
       "6451               1372.48       65.0             698.0              -6.0  \n",
       "6452               1180.52      108.0             -10.0            -470.0  \n",
       "6453               1399.10       58.0             -89.0            -539.0  \n",
       "\n",
       "[6454 rows x 8 columns]"
      ]
     },
     "execution_count": 15,
     "metadata": {},
     "output_type": "execute_result"
    }
   ],
   "source": [
    "#X = df_wc_ranked.loc[:,'total_points_home':].drop('Target',axis=1)\n",
    "X = df_wc_ranked[['total_points_home','previous_points_home', 'rank_home', \n",
    "        'total_points_away', 'previous_points_away', 'rank_away','Target',\n",
    "       'saldoDeGols_home', 'saldoDeGols_away']].drop('Target',axis=1)\n",
    "Y =  df_wc_ranked[['Target']]\n",
    "X"
   ]
  },
  {
   "cell_type": "code",
   "execution_count": 16,
   "metadata": {},
   "outputs": [],
   "source": [
    "X_train, X_test, y_train, y_test = train_test_split(X,Y,test_size=0.3,random_state=2)"
   ]
  },
  {
   "cell_type": "code",
   "execution_count": 17,
   "metadata": {},
   "outputs": [
    {
     "name": "stderr",
     "output_type": "stream",
     "text": [
      "C:\\Users\\h8men\\AppData\\Local\\Temp\\ipykernel_2488\\4272274806.py:2: DataConversionWarning: A column-vector y was passed when a 1d array was expected. Please change the shape of y to (n_samples,), for example using ravel().\n",
      "  model_rf = rf.fit(X_train,y_train)\n"
     ]
    }
   ],
   "source": [
    "rf = RandomForestClassifier(random_state=2,max_depth=5) \n",
    "model_rf = rf.fit(X_train,y_train)"
   ]
  },
  {
   "cell_type": "code",
   "execution_count": 18,
   "metadata": {},
   "outputs": [
    {
     "name": "stdout",
     "output_type": "stream",
     "text": [
      "56.375838926174495\n",
      "59.77418640690723\n"
     ]
    }
   ],
   "source": [
    "predict = model_rf.predict(X_test)\n",
    "predict_train = model_rf.predict(X_train)\n",
    "print(accuracy_score(predict,y_test)*100)\n",
    "print(accuracy_score(predict_train,y_train)*100)"
   ]
  },
  {
   "cell_type": "code",
   "execution_count": 19,
   "metadata": {},
   "outputs": [],
   "source": [
    "features = X.columns"
   ]
  },
  {
   "cell_type": "code",
   "execution_count": 20,
   "metadata": {},
   "outputs": [
    {
     "name": "stdout",
     "output_type": "stream",
     "text": [
      "rank_home: 19.043074%\n",
      "rank_away: 17.952371%\n",
      "saldoDeGols_away: 13.551115%\n",
      "saldoDeGols_home: 12.540164%\n",
      "total_points_home: 9.853515%\n",
      "total_points_away: 9.511510%\n",
      "previous_points_away: 9.218896%\n",
      "previous_points_home: 8.329355%\n"
     ]
    }
   ],
   "source": [
    "features_importance = zip(model_rf.feature_importances_, features)\n",
    "for importance, feature in sorted(features_importance, reverse=True):\n",
    "    print(\"%s: %f%%\" % (feature, importance*100))"
   ]
  },
  {
   "cell_type": "code",
   "execution_count": 21,
   "metadata": {},
   "outputs": [],
   "source": [
    "#Quantidade de Vezes que foi para final\n",
    "finalistas = pd.concat([jogosCopa[jogosCopa['Stage']=='Final'].groupby(['Home Team Name'])['Home Team Name'].count(),\n",
    "                        jogosCopa[jogosCopa['Stage']=='Final'].groupby(['Away Team Name'])['Away Team Name'].count()])\n"
   ]
  },
  {
   "cell_type": "code",
   "execution_count": 22,
   "metadata": {},
   "outputs": [],
   "source": [
    "#vencedores"
   ]
  },
  {
   "cell_type": "code",
   "execution_count": 23,
   "metadata": {},
   "outputs": [
    {
     "data": {
      "text/plain": [
       "country_full\n",
       "Kosovo                      1.796610\n",
       "South Sudan                 1.537736\n",
       "Türkiye                     1.500000\n",
       "São Tomé e Príncipe         1.000000\n",
       "St. Vincent / Grenadines    0.579710\n",
       "Serbia and Montenegro       0.395349\n",
       "Bermuda                     0.344720\n",
       "San Marino                  0.310204\n",
       "Malta                       0.295031\n",
       "São Tomé and Príncipe       0.260870\n",
       "Name: rank_change, dtype: float64"
      ]
     },
     "execution_count": 23,
     "metadata": {},
     "output_type": "execute_result"
    }
   ],
   "source": [
    "ranking.groupby(['country_full'])['rank_change'].mean().sort_values(ascending=False).head(10)"
   ]
  },
  {
   "cell_type": "code",
   "execution_count": 24,
   "metadata": {},
   "outputs": [
    {
     "data": {
      "text/plain": [
       "Year\n",
       "1930.0    18\n",
       "1934.0    17\n",
       "1938.0    18\n",
       "1950.0    22\n",
       "1954.0    26\n",
       "1958.0    35\n",
       "1962.0    32\n",
       "1966.0    32\n",
       "1970.0    32\n",
       "1974.0    38\n",
       "1978.0    38\n",
       "1982.0    52\n",
       "1986.0    52\n",
       "1990.0    52\n",
       "1994.0    52\n",
       "1998.0    64\n",
       "2002.0    64\n",
       "2006.0    64\n",
       "2010.0    64\n",
       "2014.0    63\n",
       "Name: Year, dtype: int64"
      ]
     },
     "execution_count": 24,
     "metadata": {},
     "output_type": "execute_result"
    }
   ],
   "source": [
    "jogosCopa.groupby(['Year'])['Year'].count()"
   ]
  },
  {
   "cell_type": "markdown",
   "metadata": {},
   "source": [
    "### Variaveis\n",
    "    var = { 'QTD_COPAS' :0, ✅\n",
    "            'QtdFinais' :0, ✅\n",
    "            'QtdSemi'   :0, ✅\n",
    "            'Ranking'   :0, ✅\n",
    "            'GOLS_COPAS':0,\n",
    "            'Vit_5ULT_J':0,\n",
    "            'Gol_5ULT_J':0\n",
    "            'VitPorPub': JogVit/Pub\n",
    "            \n",
    "    }"
   ]
  },
  {
   "cell_type": "code",
   "execution_count": 25,
   "metadata": {},
   "outputs": [
    {
     "data": {
      "text/plain": [
       "<AxesSubplot: xlabel='TargetCopa'>"
      ]
     },
     "execution_count": 25,
     "metadata": {},
     "output_type": "execute_result"
    },
    {
     "data": {
      "image/png": "[encoded data removed]",
      "text/plain": [
       "<Figure size 640x480 with 1 Axes>"
      ]
     },
     "metadata": {},
     "output_type": "display_data"
    }
   ],
   "source": [
    "jogosCopa[jogosCopa['Stage']=='Final'].groupby(['TargetCopa'])['TargetCopa'].count().sort_values(ascending=False).plot.bar()"
   ]
  },
  {
   "cell_type": "code",
   "execution_count": 26,
   "metadata": {},
   "outputs": [
    {
     "data": {
      "text/plain": [
       "Germany           8.0\n",
       "Brazil            6.0\n",
       "Italy             6.0\n",
       "Argentina         5.0\n",
       "Netherlands       3.0\n",
       "Czechoslovakia    1.0\n",
       "England           1.0\n",
       "France            1.0\n",
       "Hungary           1.0\n",
       "Spain             1.0\n",
       "Sweden            1.0\n",
       "Uruguay           1.0\n",
       "dtype: float64"
      ]
     },
     "execution_count": 26,
     "metadata": {},
     "output_type": "execute_result"
    }
   ],
   "source": [
    "#Quantidade de Vezes que foi para final\n",
    "(jogosCopa[jogosCopa['Stage']=='Final'].groupby(['Home Team Name'])['Home Team Name'].count()+\\\n",
    " jogosCopa[jogosCopa['Stage']=='Final'].groupby(['Away Team Name'])['Away Team Name'].count()\n",
    ").fillna(1).sort_values(ascending=False)"
   ]
  },
  {
   "cell_type": "code",
   "execution_count": 27,
   "metadata": {},
   "outputs": [
    {
     "data": {
      "text/plain": [
       "<bound method PlotAccessor.bar of <pandas.plotting._core.PlotAccessor object at 0x00000274320BAF50>>"
      ]
     },
     "execution_count": 27,
     "metadata": {},
     "output_type": "execute_result"
    }
   ],
   "source": [
    "(jogosCopa[jogosCopa['Stage']=='Final'].groupby(['Home Team Name'])['Home Team Name'].count()+\\\n",
    " jogosCopa[jogosCopa['Stage']=='Final'].groupby(['Away Team Name'])['Away Team Name'].count()\n",
    ").fillna(1).sort_values(ascending=False).plot.bar"
   ]
  },
  {
   "cell_type": "code",
   "execution_count": 28,
   "metadata": {},
   "outputs": [
    {
     "data": {
      "text/plain": [
       "Away Team Name\n",
       "Argentina         2\n",
       "Austria           2\n",
       "Belgium           1\n",
       "Brazil            2\n",
       "Chile             1\n",
       "Croatia           1\n",
       "England           1\n",
       "France            3\n",
       "Germany           5\n",
       "Italy             3\n",
       "Korea Republic    1\n",
       "Netherlands       2\n",
       "Portugal          1\n",
       "Soviet Union      1\n",
       "Spain             1\n",
       "Sweden            1\n",
       "Turkey            1\n",
       "USA               1\n",
       "Uruguay           2\n",
       "Yugoslavia        2\n",
       "Name: Away Team Name, dtype: int64"
      ]
     },
     "execution_count": 28,
     "metadata": {},
     "output_type": "execute_result"
    }
   ],
   "source": [
    "jogosCopa[jogosCopa['Stage']=='Semi-finals'].groupby(['Away Team Name'])['Away Team Name'].count()"
   ]
  },
  {
   "cell_type": "code",
   "execution_count": 29,
   "metadata": {},
   "outputs": [
    {
     "data": {
      "text/plain": [
       "Germany           12.0\n",
       "Brazil             8.0\n",
       "Italy              7.0\n",
       "France             5.0\n",
       "Uruguay            4.0\n",
       "Argentina          4.0\n",
       "Sweden             3.0\n",
       "Netherlands        3.0\n",
       "Portugal           2.0\n",
       "England            2.0\n",
       "Croatia            1.0\n",
       "Belgium            1.0\n",
       "USA                1.0\n",
       "Turkey             1.0\n",
       "Spain              1.0\n",
       "Soviet Union       1.0\n",
       "Poland             1.0\n",
       "Czechoslovakia     1.0\n",
       "Korea Republic     1.0\n",
       "Austria            1.0\n",
       "Hungary            1.0\n",
       "Bulgaria           1.0\n",
       "Chile              1.0\n",
       "Yugoslavia         1.0\n",
       "dtype: float64"
      ]
     },
     "execution_count": 29,
     "metadata": {},
     "output_type": "execute_result"
    }
   ],
   "source": [
    "#Quantidade de vezes que foi para Semifinais\n",
    "(jogosCopa[jogosCopa['Stage']=='Semi-finals'].groupby(['Home Team Name'])['Home Team Name'].count()+\\\n",
    " jogosCopa[jogosCopa['Stage']=='Semi-finals'].groupby(['Away Team Name'])['Away Team Name'].count()\n",
    ").fillna(1).sort_values(ascending=False)"
   ]
  },
  {
   "cell_type": "code",
   "execution_count": 30,
   "metadata": {},
   "outputs": [
    {
     "data": {
      "text/plain": [
       "Home Team Name\n",
       "Argentina         2\n",
       "Brazil            6\n",
       "Bulgaria          1\n",
       "Czechoslovakia    2\n",
       "England           1\n",
       "France            2\n",
       "Germany           7\n",
       "Hungary           2\n",
       "Italy             4\n",
       "Netherlands       1\n",
       "Poland            1\n",
       "Portugal          1\n",
       "Sweden            2\n",
       "Uruguay           2\n",
       "Name: Away Team Name, dtype: int64"
      ]
     },
     "execution_count": 30,
     "metadata": {},
     "output_type": "execute_result"
    }
   ],
   "source": [
    "jogosCopa[jogosCopa['Stage']=='Semi-finals'].groupby(['Home Team Name'])['Away Team Name'].count()"
   ]
  },
  {
   "cell_type": "code",
   "execution_count": 31,
   "metadata": {},
   "outputs": [
    {
     "data": {
      "text/plain": [
       "<AxesSubplot: >"
      ]
     },
     "execution_count": 31,
     "metadata": {},
     "output_type": "execute_result"
    },
    {
     "data": {
      "image/png": "[encoded data removed]",
      "text/plain": [
       "<Figure size 640x480 with 1 Axes>"
      ]
     },
     "metadata": {},
     "output_type": "display_data"
    }
   ],
   "source": [
    "(jogosCopa[jogosCopa['Stage']=='Semi-finals'].groupby(['Home Team Name'])['Home Team Name'].count()+\\\n",
    " jogosCopa[jogosCopa['Stage']=='Semi-finals'].groupby(['Away Team Name'])['Away Team Name'].count()\n",
    ").fillna(1).sort_values(ascending=False).plot.bar()"
   ]
  },
  {
   "cell_type": "code",
   "execution_count": 32,
   "metadata": {},
   "outputs": [
    {
     "data": {
      "text/plain": [
       "Away Team Name\n",
       "Algeria                        7.0\n",
       "Angola                         1.0\n",
       "Argentina                     22.0\n",
       "Australia                      4.0\n",
       "Austria                       12.0\n",
       "                              ... \n",
       "rn\">Bosnia and Herzegovina     1.0\n",
       "rn\">Republic of Ireland        8.0\n",
       "rn\">Serbia and Montenegro      2.0\n",
       "rn\">Trinidad and Tobago        0.0\n",
       "rn\">United Arab Emirates       2.0\n",
       "Name: Away Team Goals, Length: 82, dtype: float64"
      ]
     },
     "execution_count": 32,
     "metadata": {},
     "output_type": "execute_result"
    }
   ],
   "source": [
    "# (jogosCopa.groupby(['Home Team Name'])['Home Team Goals'].sum() +\\\n",
    "jogosCopa.groupby(['Away Team Name'])['Away Team Goals'].sum()\n",
    "# ).sort_values(ascending=False)\n"
   ]
  },
  {
   "cell_type": "code",
   "execution_count": 33,
   "metadata": {},
   "outputs": [
    {
     "data": {
      "text/plain": [
       "country_full\n",
       "Brazil          3.111801\n",
       "Spain           5.580745\n",
       "Argentina       5.745342\n",
       "Germany         5.975155\n",
       "France          8.273292\n",
       "Italy           8.701863\n",
       "Netherlands     9.363354\n",
       "England         9.962733\n",
       "Portugal       10.894410\n",
       "Mexico         14.512422\n",
       "Name: rank, dtype: float64"
      ]
     },
     "execution_count": 33,
     "metadata": {},
     "output_type": "execute_result"
    }
   ],
   "source": [
    "ranking.groupby(['country_full'])['rank'].mean().sort_values().head(10)"
   ]
  },
  {
   "cell_type": "code",
   "execution_count": 34,
   "metadata": {},
   "outputs": [
    {
     "data": {
      "text/plain": [
       "array(['France', 'USA', 'Yugoslavia', 'Romania', 'Argentina', 'Chile',\n",
       "       'Uruguay', 'Brazil', 'Paraguay', 'Austria', 'Hungary',\n",
       "       'Switzerland', 'Sweden', 'Germany', 'Spain', 'Italy',\n",
       "       'Czechoslovakia', 'Cuba', 'England', 'Turkey', 'Soviet Union',\n",
       "       'Northern Ireland', 'Mexico', 'Wales', 'Portugal', 'Korea DPR',\n",
       "       'Peru', 'Belgium', 'Bulgaria', 'German DR', 'Zaire', 'Poland',\n",
       "       'Australia', 'Scotland', 'Netherlands', 'Haiti', 'Tunisia',\n",
       "       'Algeria', 'Honduras', 'Canada', 'Morocco', 'Korea Republic',\n",
       "       'Iraq', 'Denmark', 'rn\">United Arab Emirates', 'Costa Rica',\n",
       "       'Cameroon', 'rn\">Republic of Ireland', 'Colombia', 'Norway',\n",
       "       'Nigeria', 'Saudi Arabia', 'Bolivia', 'Russia', 'Greece',\n",
       "       'Jamaica', 'South Africa', 'Japan', 'Croatia', 'China PR',\n",
       "       'Senegal', 'Slovenia', 'Ecuador', 'rn\">Trinidad and Tobago',\n",
       "       'rn\">Serbia and Montenegro', 'Angola', 'Czech Republic', 'Togo',\n",
       "       'Iran', \"C�te d'Ivoire\", 'Ghana', 'Ukraine', 'Serbia',\n",
       "       'New Zealand', 'Slovakia', 'IR Iran', 'rn\">Bosnia and Herzegovina'],\n",
       "      dtype=object)"
      ]
     },
     "execution_count": 34,
     "metadata": {},
     "output_type": "execute_result"
    }
   ],
   "source": [
    "jogosCopa['Home Team Name'].unique()"
   ]
  },
  {
   "cell_type": "code",
   "execution_count": 35,
   "metadata": {},
   "outputs": [
    {
     "data": {
      "text/plain": [
       "Year\n",
       "1930.0    18\n",
       "1934.0    17\n",
       "1938.0    18\n",
       "1950.0    22\n",
       "1954.0    26\n",
       "1958.0    35\n",
       "1962.0    32\n",
       "1966.0    32\n",
       "1970.0    32\n",
       "1974.0    38\n",
       "1978.0    38\n",
       "1982.0    52\n",
       "1986.0    52\n",
       "1990.0    52\n",
       "1994.0    52\n",
       "1998.0    64\n",
       "2002.0    64\n",
       "2006.0    64\n",
       "2010.0    64\n",
       "2014.0    63\n",
       "Name: Year, dtype: int64"
      ]
     },
     "execution_count": 35,
     "metadata": {},
     "output_type": "execute_result"
    }
   ],
   "source": [
    "jogosCopa.groupby(['Year'])['Year'].count()"
   ]
  }
 ],
 "metadata": {
  "kernelspec": {
   "display_name": "Python 3.10.4 64-bit",
   "language": "python",
   "name": "python3"
  },
  "language_info": {
   "codemirror_mode": {
    "name": "ipython",
    "version": 3
   },
   "file_extension": ".py",
   "mimetype": "text/x-python",
   "name": "python",
   "nbconvert_exporter": "python",
   "pygments_lexer": "ipython3",
   "version": "3.10.4"
  },
  "orig_nbformat": 4,
  "vscode": {
   "interpreter": {
    "hash": "30e6c019ef7a1d777011f20aae8955f4ca8fe252a32a5424c0b2878bb91c5f90"
   }
  }
 },
 "nbformat": 4,
 "nbformat_minor": 2
}
