{
 "cells": [
  {
   "cell_type": "markdown",
   "metadata": {},
   "source": [
    "### Importação de Bibliotecas"
   ]
  },
  {
   "cell_type": "code",
   "execution_count": 1,
   "metadata": {},
   "outputs": [],
   "source": [
    "from sklearn.ensemble import RandomForestClassifier,GradientBoostingClassifier\n",
    "from sklearn.model_selection import train_test_split,GridSearchCV\n",
    "from sklearn.metrics import accuracy_score\n",
    "import pandas as pd \n",
    "import numpy as np\n",
    "import matplotlib.pyplot as plt\n",
    "import shap"
   ]
  },
  {
   "cell_type": "markdown",
   "metadata": {},
   "source": [
    "### Leitura e Tratamento dos Dados"
   ]
  },
  {
   "cell_type": "code",
   "execution_count": 2,
   "metadata": {},
   "outputs": [],
   "source": [
    "jogosCopa   = pd.read_csv('archive/WorldCupMatches.csv',encoding='utf-8')\n",
    "ranking     = pd.read_csv('archive/fifa_ranking-2022-10-06.csv.zip')\n",
    "jogos       = pd.read_csv('archive/results.csv')"
   ]
  },
  {
   "cell_type": "code",
   "execution_count": 3,
   "metadata": {},
   "outputs": [],
   "source": [
    "jogos =  pd.read_csv('archive/results.csv') #games between national teams\n",
    "jogos[\"date\"] = pd.to_datetime(jogos[\"date\"])\n",
    "df_wc = jogos #pre-wc outcomes\n",
    "\n",
    "rank = pd.read_csv('archive/fifa_ranking-2022-10-06.csv.zip') #rankings\n",
    "rank[\"rank_date\"] = pd.to_datetime(rank[\"rank_date\"]) \n",
    "rank = rank[(rank[\"rank_date\"] >= \"2018-1-1\")].reset_index(drop=True) #selecting games from the 2022 wc cycle\n",
    "rank[\"country_full\"] = rank[\"country_full\"].str.replace(\"IR Iran\", \"Iran\").str.replace(\"Korea Republic\", \"South Korea\").str.replace(\"USA\", \"United States\") #ajustando nomes de algumas seleções\n",
    "rank = rank.set_index(['rank_date']).groupby(['country_full'], group_keys=False).resample('D').first().fillna(method='ffill').reset_index()\n",
    "rank_wc = rank #dataframe with rankings\n",
    "\n",
    "#Making the merge\n",
    "df_wc_ranked = df_wc.merge(rank[[\"country_full\", \"total_points\", \"previous_points\", \"rank\", \"rank_change\", \"rank_date\"]], left_on=[\"date\", \"home_team\"], right_on=[\"rank_date\", \"country_full\"]).drop([\"rank_date\", \"country_full\"], axis=1)\n",
    "df_wc_ranked = df_wc_ranked.merge(rank[[\"country_full\", \"total_points\", \"previous_points\", \"rank\", \"rank_change\", \"rank_date\"]], left_on=[\"date\", \"away_team\"], right_on=[\"rank_date\", \"country_full\"], suffixes=(\"_home\", \"_away\")).drop([\"rank_date\", \"country_full\"], axis=1)\n",
    "df_wc_ranked.dropna(inplace=True)\n",
    "jogos = df_wc_ranked"
   ]
  },
  {
   "cell_type": "code",
   "execution_count": 4,
   "metadata": {},
   "outputs": [],
   "source": [
    "import pandas as pd\n",
    "import re\n",
    "df =  pd.read_csv('archive/results.csv') #games between national teams\n",
    "df[\"date\"] = pd.to_datetime(df[\"date\"])\n",
    "df = df[(df[\"date\"] >= \"2018-8-1\")].reset_index(drop=True) #games at the 2022 wc cycle\n",
    "df_wc = df #pre-wc outcomes\n",
    "\n",
    "rank = pd.read_csv('archive/fifa_ranking-2022-10-06.csv.zip') #rankings\n",
    "rank[\"rank_date\"] = pd.to_datetime(rank[\"rank_date\"]) \n",
    "rank = rank[(rank[\"rank_date\"] >= \"2018-1-1\")].reset_index(drop=True) #selecting games from the 2022 wc cycle\n",
    "rank[\"country_full\"] = rank[\"country_full\"].str.replace(\"IR Iran\", \"Iran\").str.replace(\"Korea Republic\", \"South Korea\").str.replace(\"USA\", \"United States\") #ajustando nomes de algumas seleções\n",
    "rank = rank.set_index(['rank_date']).groupby(['country_full'], group_keys=False).resample('D').first().fillna(method='ffill').reset_index()\n",
    "rank_wc = rank #dataframe with rankings\n",
    "\n",
    "#Making the merge\n",
    "df_wc_ranked = df_wc.merge(rank[[\"country_full\", \"total_points\", \"previous_points\", \"rank\", \"rank_change\", \"rank_date\"]], left_on=[\"date\", \"home_team\"], right_on=[\"rank_date\", \"country_full\"]).drop([\"rank_date\", \"country_full\"], axis=1)\n",
    "df_wc_ranked = df_wc_ranked.merge(rank[[\"country_full\", \"total_points\", \"previous_points\", \"rank\", \"rank_change\", \"rank_date\"]], left_on=[\"date\", \"away_team\"], right_on=[\"rank_date\", \"country_full\"], suffixes=(\"_home\", \"_away\")).drop([\"rank_date\", \"country_full\"], axis=1)\n",
    "df_wc_ranked.dropna(inplace=True)"
   ]
  },
  {
   "cell_type": "code",
   "execution_count": 5,
   "metadata": {},
   "outputs": [],
   "source": [
    "def ultimosJogos(jogos,data,time,qtdJogos=5):\n",
    "    return jogos[(jogos['date']<data) & ((jogos['home_team']==time) | (jogos['away_team']==time))].sort_values(by='date',ascending=False).head(qtdJogos)\n",
    "\n",
    "def qtdVit(linha,time,rank,qtdJogos=5):\n",
    "\n",
    "    jogosC = ultimosJogos(jogos,linha['date'],linha[time],qtdJogos)\n",
    "    jogosC['Target'] =  np.where(jogosC['home_score']>jogosC['away_score'],jogosC['home_team'],\n",
    "                       np.where(jogosC['home_score']<jogosC['away_score'],jogosC['away_team'],'Empate'))\n",
    "    return jogosC[jogosC['Target']==linha[time]]['Target'].count()/linha[rank]\n",
    "\n",
    "def saldoGols(linha,time,rank):\n",
    "    jogosC = ultimosJogos(jogos,linha['date'],linha[time],qtdJogos=5)\n",
    "    golsTeam = jogosC.groupby(['home_team'])['home_score'].sum().reset_index()\n",
    "    golsTeam.columns = ['pais','gols'] \n",
    "    golsAway = jogosC.groupby(['away_team'])['away_score'].sum().reset_index() \n",
    "    golsAway.columns = ['pais','gols'] \n",
    "    golsMarcados = pd.concat([golsTeam,golsAway])\n",
    "    golsMarcados = golsMarcados[golsMarcados['pais']==linha[time]].groupby(['pais'])['gols'].sum().reset_index()\n",
    "\n",
    "    golsSofridosTeam = jogosC.groupby(['home_team'])['away_score'].sum().reset_index()\n",
    "    golsSofridosTeam.columns = ['pais','gols'] \n",
    "    golsSofridosAway = jogosC.groupby(['away_team'])['home_score'].sum().reset_index() \n",
    "    golsSofridosAway.columns = ['pais','gols'] \n",
    "    golsSofridos = pd.concat([golsSofridosTeam,golsSofridosAway])\n",
    "    golsSofridos = golsSofridos[golsSofridos['pais']==linha[time]].groupby(['pais'])['gols'].sum().reset_index()\n",
    "\n",
    "    golsMarcados['saldoDeGols'] = golsMarcados['gols']-golsSofridos['gols']\n",
    "    golsMarcados = golsMarcados.drop('gols',axis=1)\n",
    "    return golsMarcados[golsMarcados['pais']==linha[time]]['saldoDeGols']/linha[rank]\n",
    "\n",
    "def qtdEmp(linha,time,rank):\n",
    "\n",
    "    jogosC = ultimosJogos(jogos,linha['date'],linha[time],qtdJogos=5)\n",
    "    jogosC['Target'] =  np.where(jogosC['home_score']>jogosC['away_score'],jogosC['home_team'],\n",
    "                       np.where(jogosC['home_score']<jogosC['away_score'],jogosC['away_team'],'Empate'))\n",
    "    return jogosC[jogosC['Target']=='Empate']['Target'].count()\n",
    "\n",
    "def medScore(linha,time,rank):\n",
    "    jogosC = ultimosJogos(jogos,linha['date'],linha[time],qtdJogos=5)\n",
    "    return (jogosC[jogosC['home_team']==linha[time]]['rank_home'].sum()+jogosC[jogosC['away_team']==linha[time]]['rank_away'].sum())/5"
   ]
  },
  {
   "cell_type": "code",
   "execution_count": 6,
   "metadata": {},
   "outputs": [],
   "source": [
    "#Target -> 1 Vitoria da Casa,2 Vitoria  do visitante e 0  empate\n",
    "df_wc_ranked['Target'] = np.where(df_wc_ranked['home_score']>df_wc_ranked['away_score'],1,0)\n",
    "                        #  np.where(df_wc_ranked['home_score']<df_wc_ranked['away_score'],2,0))"
   ]
  },
  {
   "cell_type": "code",
   "execution_count": 7,
   "metadata": {},
   "outputs": [],
   "source": [
    "df_wc_ranked['Target_V'] = np.where(df_wc_ranked['home_score']>df_wc_ranked['away_score'],1,\n",
    "                         np.where(df_wc_ranked['home_score']<df_wc_ranked['away_score'],2,0))"
   ]
  },
  {
   "cell_type": "code",
   "execution_count": 8,
   "metadata": {},
   "outputs": [],
   "source": [
    "df_wc_ranked['flag_amistoso'] = np.where(df_wc_ranked['tournament']=='Friendly',1,0)\n",
    "df_wc_ranked['flag_is_campo_neutro'] = np.where(df_wc_ranked['neutral']==True,1,0)"
   ]
  },
  {
   "cell_type": "code",
   "execution_count": 9,
   "metadata": {},
   "outputs": [
    {
     "data": {
      "text/html": [
       "<div>\n",
       "<style scoped>\n",
       "    .dataframe tbody tr th:only-of-type {\n",
       "        vertical-align: middle;\n",
       "    }\n",
       "\n",
       "    .dataframe tbody tr th {\n",
       "        vertical-align: top;\n",
       "    }\n",
       "\n",
       "    .dataframe thead th {\n",
       "        text-align: right;\n",
       "    }\n",
       "</style>\n",
       "<table border=\"1\" class=\"dataframe\">\n",
       "  <thead>\n",
       "    <tr style=\"text-align: right;\">\n",
       "      <th></th>\n",
       "      <th>pais</th>\n",
       "      <th>saldoDeGols</th>\n",
       "    </tr>\n",
       "  </thead>\n",
       "  <tbody>\n",
       "    <tr>\n",
       "      <th>0</th>\n",
       "      <td>Afghanistan</td>\n",
       "      <td>-14.0</td>\n",
       "    </tr>\n",
       "    <tr>\n",
       "      <th>1</th>\n",
       "      <td>Albania</td>\n",
       "      <td>-11.0</td>\n",
       "    </tr>\n",
       "    <tr>\n",
       "      <th>2</th>\n",
       "      <td>Algeria</td>\n",
       "      <td>72.0</td>\n",
       "    </tr>\n",
       "    <tr>\n",
       "      <th>3</th>\n",
       "      <td>American Samoa</td>\n",
       "      <td>-20.0</td>\n",
       "    </tr>\n",
       "    <tr>\n",
       "      <th>4</th>\n",
       "      <td>Andorra</td>\n",
       "      <td>-59.0</td>\n",
       "    </tr>\n",
       "    <tr>\n",
       "      <th>...</th>\n",
       "      <td>...</td>\n",
       "      <td>...</td>\n",
       "    </tr>\n",
       "    <tr>\n",
       "      <th>196</th>\n",
       "      <td>Vietnam</td>\n",
       "      <td>17.0</td>\n",
       "    </tr>\n",
       "    <tr>\n",
       "      <th>197</th>\n",
       "      <td>Wales</td>\n",
       "      <td>8.0</td>\n",
       "    </tr>\n",
       "    <tr>\n",
       "      <th>198</th>\n",
       "      <td>Yemen</td>\n",
       "      <td>-43.0</td>\n",
       "    </tr>\n",
       "    <tr>\n",
       "      <th>199</th>\n",
       "      <td>Zambia</td>\n",
       "      <td>-2.0</td>\n",
       "    </tr>\n",
       "    <tr>\n",
       "      <th>200</th>\n",
       "      <td>Zimbabwe</td>\n",
       "      <td>4.0</td>\n",
       "    </tr>\n",
       "  </tbody>\n",
       "</table>\n",
       "<p>201 rows × 2 columns</p>\n",
       "</div>"
      ],
      "text/plain": [
       "               pais  saldoDeGols\n",
       "0       Afghanistan        -14.0\n",
       "1           Albania        -11.0\n",
       "2           Algeria         72.0\n",
       "3    American Samoa        -20.0\n",
       "4           Andorra        -59.0\n",
       "..              ...          ...\n",
       "196         Vietnam         17.0\n",
       "197           Wales          8.0\n",
       "198           Yemen        -43.0\n",
       "199          Zambia         -2.0\n",
       "200        Zimbabwe          4.0\n",
       "\n",
       "[201 rows x 2 columns]"
      ]
     },
     "execution_count": 9,
     "metadata": {},
     "output_type": "execute_result"
    }
   ],
   "source": [
    "golsTeam = jogos.groupby(['home_team'])['home_score'].sum().reset_index()\n",
    "golsTeam.columns = ['pais','gols'] \n",
    "golsAway = jogos.groupby(['away_team'])['away_score'].sum().reset_index() \n",
    "golsAway.columns = ['pais','gols'] \n",
    "golsMarcados = pd.concat([golsTeam,golsAway])\n",
    "golsMarcados = golsMarcados.groupby(['pais'])['gols'].sum().reset_index()\n",
    "\n",
    "golsSofridosTeam = jogos.groupby(['home_team'])['away_score'].sum().reset_index()\n",
    "golsSofridosTeam.columns = ['pais','gols'] \n",
    "golsSofridosAway = jogos.groupby(['away_team'])['home_score'].sum().reset_index() \n",
    "golsSofridosAway.columns = ['pais','gols'] \n",
    "golsSofridos = pd.concat([golsSofridosTeam,golsSofridosAway])\n",
    "golsSofridos = golsSofridos.groupby(['pais'])['gols'].sum().reset_index()\n",
    "\n",
    "golsMarcados['saldoDeGols'] = golsMarcados['gols']-golsSofridos['gols']\n",
    "golsMarcados = golsMarcados.drop('gols',axis=1)\n",
    "golsMarcados"
   ]
  },
  {
   "cell_type": "code",
   "execution_count": 10,
   "metadata": {},
   "outputs": [],
   "source": [
    "df_wc_ranked['date'] = df_wc_ranked['date'].astype(str)"
   ]
  },
  {
   "cell_type": "code",
   "execution_count": 11,
   "metadata": {},
   "outputs": [
    {
     "data": {
      "text/html": [
       "<div>\n",
       "<style scoped>\n",
       "    .dataframe tbody tr th:only-of-type {\n",
       "        vertical-align: middle;\n",
       "    }\n",
       "\n",
       "    .dataframe tbody tr th {\n",
       "        vertical-align: top;\n",
       "    }\n",
       "\n",
       "    .dataframe thead th {\n",
       "        text-align: right;\n",
       "    }\n",
       "</style>\n",
       "<table border=\"1\" class=\"dataframe\">\n",
       "  <thead>\n",
       "    <tr style=\"text-align: right;\">\n",
       "      <th></th>\n",
       "      <th>date</th>\n",
       "      <th>home_team</th>\n",
       "      <th>away_team</th>\n",
       "      <th>home_score</th>\n",
       "      <th>away_score</th>\n",
       "      <th>tournament</th>\n",
       "      <th>city</th>\n",
       "      <th>country</th>\n",
       "      <th>neutral</th>\n",
       "      <th>total_points_home</th>\n",
       "      <th>previous_points_home</th>\n",
       "      <th>rank_home</th>\n",
       "      <th>rank_change_home</th>\n",
       "      <th>total_points_away</th>\n",
       "      <th>previous_points_away</th>\n",
       "      <th>rank_away</th>\n",
       "      <th>rank_change_away</th>\n",
       "    </tr>\n",
       "  </thead>\n",
       "  <tbody>\n",
       "    <tr>\n",
       "      <th>0</th>\n",
       "      <td>2018-01-18</td>\n",
       "      <td>Uganda</td>\n",
       "      <td>Namibia</td>\n",
       "      <td>0.0</td>\n",
       "      <td>1.0</td>\n",
       "      <td>African Nations Championship</td>\n",
       "      <td>Marrakech</td>\n",
       "      <td>Morocco</td>\n",
       "      <td>True</td>\n",
       "      <td>446.00</td>\n",
       "      <td>448.00</td>\n",
       "      <td>73.0</td>\n",
       "      <td>-2.0</td>\n",
       "      <td>300.00</td>\n",
       "      <td>274.00</td>\n",
       "      <td>111.0</td>\n",
       "      <td>-7.0</td>\n",
       "    </tr>\n",
       "    <tr>\n",
       "      <th>1</th>\n",
       "      <td>2018-01-19</td>\n",
       "      <td>Libya</td>\n",
       "      <td>Nigeria</td>\n",
       "      <td>0.0</td>\n",
       "      <td>1.0</td>\n",
       "      <td>African Nations Championship</td>\n",
       "      <td>Tangier</td>\n",
       "      <td>Morocco</td>\n",
       "      <td>True</td>\n",
       "      <td>389.00</td>\n",
       "      <td>399.00</td>\n",
       "      <td>89.0</td>\n",
       "      <td>1.0</td>\n",
       "      <td>651.00</td>\n",
       "      <td>640.00</td>\n",
       "      <td>51.0</td>\n",
       "      <td>0.0</td>\n",
       "    </tr>\n",
       "    <tr>\n",
       "      <th>2</th>\n",
       "      <td>2018-01-19</td>\n",
       "      <td>Rwanda</td>\n",
       "      <td>Equatorial Guinea</td>\n",
       "      <td>1.0</td>\n",
       "      <td>0.0</td>\n",
       "      <td>African Nations Championship</td>\n",
       "      <td>Tangier</td>\n",
       "      <td>Morocco</td>\n",
       "      <td>True</td>\n",
       "      <td>282.00</td>\n",
       "      <td>295.00</td>\n",
       "      <td>116.0</td>\n",
       "      <td>3.0</td>\n",
       "      <td>202.00</td>\n",
       "      <td>187.00</td>\n",
       "      <td>141.0</td>\n",
       "      <td>-5.0</td>\n",
       "    </tr>\n",
       "    <tr>\n",
       "      <th>3</th>\n",
       "      <td>2018-01-20</td>\n",
       "      <td>Angola</td>\n",
       "      <td>Cameroon</td>\n",
       "      <td>1.0</td>\n",
       "      <td>0.0</td>\n",
       "      <td>African Nations Championship</td>\n",
       "      <td>Agadir</td>\n",
       "      <td>Morocco</td>\n",
       "      <td>True</td>\n",
       "      <td>200.00</td>\n",
       "      <td>201.00</td>\n",
       "      <td>142.0</td>\n",
       "      <td>1.0</td>\n",
       "      <td>707.00</td>\n",
       "      <td>696.00</td>\n",
       "      <td>45.0</td>\n",
       "      <td>0.0</td>\n",
       "    </tr>\n",
       "    <tr>\n",
       "      <th>4</th>\n",
       "      <td>2018-01-20</td>\n",
       "      <td>Congo</td>\n",
       "      <td>Burkina Faso</td>\n",
       "      <td>2.0</td>\n",
       "      <td>0.0</td>\n",
       "      <td>African Nations Championship</td>\n",
       "      <td>Agadir</td>\n",
       "      <td>Morocco</td>\n",
       "      <td>True</td>\n",
       "      <td>369.00</td>\n",
       "      <td>362.00</td>\n",
       "      <td>96.0</td>\n",
       "      <td>0.0</td>\n",
       "      <td>709.00</td>\n",
       "      <td>705.00</td>\n",
       "      <td>44.0</td>\n",
       "      <td>0.0</td>\n",
       "    </tr>\n",
       "    <tr>\n",
       "      <th>...</th>\n",
       "      <td>...</td>\n",
       "      <td>...</td>\n",
       "      <td>...</td>\n",
       "      <td>...</td>\n",
       "      <td>...</td>\n",
       "      <td>...</td>\n",
       "      <td>...</td>\n",
       "      <td>...</td>\n",
       "      <td>...</td>\n",
       "      <td>...</td>\n",
       "      <td>...</td>\n",
       "      <td>...</td>\n",
       "      <td>...</td>\n",
       "      <td>...</td>\n",
       "      <td>...</td>\n",
       "      <td>...</td>\n",
       "      <td>...</td>\n",
       "    </tr>\n",
       "    <tr>\n",
       "      <th>3678</th>\n",
       "      <td>2022-09-27</td>\n",
       "      <td>Albania</td>\n",
       "      <td>Iceland</td>\n",
       "      <td>1.0</td>\n",
       "      <td>1.0</td>\n",
       "      <td>UEFA Nations League</td>\n",
       "      <td>Tirana</td>\n",
       "      <td>Albania</td>\n",
       "      <td>False</td>\n",
       "      <td>1361.81</td>\n",
       "      <td>1361.81</td>\n",
       "      <td>66.0</td>\n",
       "      <td>0.0</td>\n",
       "      <td>1379.61</td>\n",
       "      <td>1379.61</td>\n",
       "      <td>63.0</td>\n",
       "      <td>0.0</td>\n",
       "    </tr>\n",
       "    <tr>\n",
       "      <th>3679</th>\n",
       "      <td>2022-09-27</td>\n",
       "      <td>Norway</td>\n",
       "      <td>Serbia</td>\n",
       "      <td>0.0</td>\n",
       "      <td>2.0</td>\n",
       "      <td>UEFA Nations League</td>\n",
       "      <td>Oslo</td>\n",
       "      <td>Norway</td>\n",
       "      <td>False</td>\n",
       "      <td>1488.57</td>\n",
       "      <td>1488.57</td>\n",
       "      <td>36.0</td>\n",
       "      <td>0.0</td>\n",
       "      <td>1549.53</td>\n",
       "      <td>1549.53</td>\n",
       "      <td>25.0</td>\n",
       "      <td>0.0</td>\n",
       "    </tr>\n",
       "    <tr>\n",
       "      <th>3680</th>\n",
       "      <td>2022-09-27</td>\n",
       "      <td>Sweden</td>\n",
       "      <td>Slovenia</td>\n",
       "      <td>1.0</td>\n",
       "      <td>1.0</td>\n",
       "      <td>UEFA Nations League</td>\n",
       "      <td>Stockholm</td>\n",
       "      <td>Sweden</td>\n",
       "      <td>False</td>\n",
       "      <td>1563.44</td>\n",
       "      <td>1563.44</td>\n",
       "      <td>20.0</td>\n",
       "      <td>0.0</td>\n",
       "      <td>1372.48</td>\n",
       "      <td>1372.48</td>\n",
       "      <td>65.0</td>\n",
       "      <td>0.0</td>\n",
       "    </tr>\n",
       "    <tr>\n",
       "      <th>3681</th>\n",
       "      <td>2022-09-27</td>\n",
       "      <td>Kosovo</td>\n",
       "      <td>Cyprus</td>\n",
       "      <td>5.0</td>\n",
       "      <td>1.0</td>\n",
       "      <td>UEFA Nations League</td>\n",
       "      <td>Pristina</td>\n",
       "      <td>Kosovo</td>\n",
       "      <td>False</td>\n",
       "      <td>1183.90</td>\n",
       "      <td>1183.90</td>\n",
       "      <td>106.0</td>\n",
       "      <td>0.0</td>\n",
       "      <td>1180.52</td>\n",
       "      <td>1180.52</td>\n",
       "      <td>108.0</td>\n",
       "      <td>1.0</td>\n",
       "    </tr>\n",
       "    <tr>\n",
       "      <th>3682</th>\n",
       "      <td>2022-09-27</td>\n",
       "      <td>Greece</td>\n",
       "      <td>Northern Ireland</td>\n",
       "      <td>3.0</td>\n",
       "      <td>1.0</td>\n",
       "      <td>UEFA Nations League</td>\n",
       "      <td>Athens</td>\n",
       "      <td>Greece</td>\n",
       "      <td>False</td>\n",
       "      <td>1441.45</td>\n",
       "      <td>1441.45</td>\n",
       "      <td>49.0</td>\n",
       "      <td>1.0</td>\n",
       "      <td>1399.10</td>\n",
       "      <td>1399.10</td>\n",
       "      <td>58.0</td>\n",
       "      <td>0.0</td>\n",
       "    </tr>\n",
       "  </tbody>\n",
       "</table>\n",
       "<p>3683 rows × 17 columns</p>\n",
       "</div>"
      ],
      "text/plain": [
       "           date home_team          away_team  home_score  away_score  \\\n",
       "0    2018-01-18    Uganda            Namibia         0.0         1.0   \n",
       "1    2018-01-19     Libya            Nigeria         0.0         1.0   \n",
       "2    2018-01-19    Rwanda  Equatorial Guinea         1.0         0.0   \n",
       "3    2018-01-20    Angola           Cameroon         1.0         0.0   \n",
       "4    2018-01-20     Congo       Burkina Faso         2.0         0.0   \n",
       "...         ...       ...                ...         ...         ...   \n",
       "3678 2022-09-27   Albania            Iceland         1.0         1.0   \n",
       "3679 2022-09-27    Norway             Serbia         0.0         2.0   \n",
       "3680 2022-09-27    Sweden           Slovenia         1.0         1.0   \n",
       "3681 2022-09-27    Kosovo             Cyprus         5.0         1.0   \n",
       "3682 2022-09-27    Greece   Northern Ireland         3.0         1.0   \n",
       "\n",
       "                        tournament       city  country  neutral  \\\n",
       "0     African Nations Championship  Marrakech  Morocco     True   \n",
       "1     African Nations Championship    Tangier  Morocco     True   \n",
       "2     African Nations Championship    Tangier  Morocco     True   \n",
       "3     African Nations Championship     Agadir  Morocco     True   \n",
       "4     African Nations Championship     Agadir  Morocco     True   \n",
       "...                            ...        ...      ...      ...   \n",
       "3678           UEFA Nations League     Tirana  Albania    False   \n",
       "3679           UEFA Nations League       Oslo   Norway    False   \n",
       "3680           UEFA Nations League  Stockholm   Sweden    False   \n",
       "3681           UEFA Nations League   Pristina   Kosovo    False   \n",
       "3682           UEFA Nations League     Athens   Greece    False   \n",
       "\n",
       "      total_points_home  previous_points_home  rank_home  rank_change_home  \\\n",
       "0                446.00                448.00       73.0              -2.0   \n",
       "1                389.00                399.00       89.0               1.0   \n",
       "2                282.00                295.00      116.0               3.0   \n",
       "3                200.00                201.00      142.0               1.0   \n",
       "4                369.00                362.00       96.0               0.0   \n",
       "...                 ...                   ...        ...               ...   \n",
       "3678            1361.81               1361.81       66.0               0.0   \n",
       "3679            1488.57               1488.57       36.0               0.0   \n",
       "3680            1563.44               1563.44       20.0               0.0   \n",
       "3681            1183.90               1183.90      106.0               0.0   \n",
       "3682            1441.45               1441.45       49.0               1.0   \n",
       "\n",
       "      total_points_away  previous_points_away  rank_away  rank_change_away  \n",
       "0                300.00                274.00      111.0              -7.0  \n",
       "1                651.00                640.00       51.0               0.0  \n",
       "2                202.00                187.00      141.0              -5.0  \n",
       "3                707.00                696.00       45.0               0.0  \n",
       "4                709.00                705.00       44.0               0.0  \n",
       "...                 ...                   ...        ...               ...  \n",
       "3678            1379.61               1379.61       63.0               0.0  \n",
       "3679            1549.53               1549.53       25.0               0.0  \n",
       "3680            1372.48               1372.48       65.0               0.0  \n",
       "3681            1180.52               1180.52      108.0               1.0  \n",
       "3682            1399.10               1399.10       58.0               0.0  \n",
       "\n",
       "[3683 rows x 17 columns]"
      ]
     },
     "execution_count": 11,
     "metadata": {},
     "output_type": "execute_result"
    }
   ],
   "source": [
    "jogos"
   ]
  },
  {
   "cell_type": "code",
   "execution_count": 588,
   "metadata": {},
   "outputs": [],
   "source": [
    "df_wc_ranked['QtdVit5UltJHome'] = df_wc_ranked[['date','home_team','rank_home']].apply(qtdVit,args=['home_team','rank_home'],axis=1)\n",
    "df_wc_ranked['QtdVit5UltJAway'] = df_wc_ranked[['date','away_team','rank_away']].apply(qtdVit,args=['away_team','rank_away'],axis=1)\n",
    "\n",
    "df_wc_ranked['QtdVit10UltJHome'] = df_wc_ranked[['date','home_team','rank_home']].apply(qtdVit,args=['home_team','rank_home',10],axis=1)\n",
    "df_wc_ranked['QtdVit10UltJAway'] = df_wc_ranked[['date','away_team','rank_away']].apply(qtdVit,args=['away_team','rank_away',10],axis=1)\n",
    "\n"
   ]
  },
  {
   "cell_type": "code",
   "execution_count": 589,
   "metadata": {},
   "outputs": [],
   "source": [
    "df_wc_ranked['QtdVit2UltJHome'] = df_wc_ranked[['date','home_team','rank_home']].apply(qtdVit,args=['home_team','rank_home',2],axis=1)\n",
    "df_wc_ranked['QtdVit2UltJAway'] = df_wc_ranked[['date','away_team','rank_away']].apply(qtdVit,args=['away_team','rank_away',2],axis=1)"
   ]
  },
  {
   "cell_type": "code",
   "execution_count": 590,
   "metadata": {},
   "outputs": [],
   "source": [
    "df_wc_ranked['QtdEmp5UltJHome'] = df_wc_ranked[['date','home_team','rank_home']].apply(qtdEmp,args=['home_team','rank_home'],axis=1)\n",
    "df_wc_ranked['QtdEmp5UltJAway'] = df_wc_ranked[['date','away_team','rank_away']].apply(qtdEmp,args=['away_team','rank_away'],axis=1)"
   ]
  },
  {
   "cell_type": "code",
   "execution_count": 578,
   "metadata": {},
   "outputs": [],
   "source": [
    "df_wc_ranked['Med5UltJRankHome'] = df_wc_ranked.apply(medScore,args=['home_team','rank_home'],axis=1)\n",
    "df_wc_ranked['Med5UltJRankAway'] = df_wc_ranked.apply(medScore,args=['away_team','rank_away'],axis=1)"
   ]
  },
  {
   "cell_type": "code",
   "execution_count": 591,
   "metadata": {},
   "outputs": [],
   "source": [
    "df_wc_ranked['saldoGols5UltJHome'] = df_wc_ranked.apply(saldoGols,args=['home_team','rank_home'],axis=1)\n",
    "df_wc_ranked['saldoGols5UltJAway'] = df_wc_ranked.apply(saldoGols,args=['home_team','rank_home'],axis=1)"
   ]
  },
  {
   "cell_type": "code",
   "execution_count": 220,
   "metadata": {},
   "outputs": [],
   "source": [
    "jogosCopa = jogosCopa.drop_duplicates('MatchID')\n",
    "jogosCopa = jogosCopa.dropna()\n",
    "jogosCopa = jogosCopa.loc[:,['Year', 'Stage', 'Home Team Name',\n",
    "  'Home Team Goals', 'Away Team Goals','Win conditions','Away Team Name',\n",
    "  'Attendance', 'Half-time Home Goals','Half-time Away Goals',\n",
    "  'RoundID', 'MatchID']]\n",
    "jogosCopa = jogosCopa.replace('Germany FR','Germany')"
   ]
  },
  {
   "cell_type": "code",
   "execution_count": 221,
   "metadata": {},
   "outputs": [],
   "source": [
    "jogosCopa['TargetCopa'] = np.where(jogosCopa['Home Team Goals']>jogosCopa['Away Team Goals'],jogosCopa['Home Team Name'],\n",
    "                      np.where(jogosCopa['Home Team Goals']<jogosCopa['Away Team Goals'],jogosCopa['Away Team Name'],\n",
    "                      np.where(jogosCopa.apply(lambda x: x['Home Team Name'] in x['Win conditions'],axis=1),jogosCopa['Home Team Name'],\n",
    "                      np.where(jogosCopa.apply(lambda x: x['Away Team Name'] in x['Win conditions'],axis=1),jogosCopa['Away Team Name'],\n",
    "                      'Empate'\n",
    "                    ))))"
   ]
  },
  {
   "cell_type": "code",
   "execution_count": 222,
   "metadata": {},
   "outputs": [],
   "source": [
    "#Quantidade de Copas Ganhas\n",
    "#vencedores = jogosCopa[jogosCopa['Stage']=='Final'].groupby(['TargetCopa'])['TargetCopa'].count().sort_values(ascending=False).to_frame('QtdCopas').reset_index()"
   ]
  },
  {
   "cell_type": "code",
   "execution_count": 223,
   "metadata": {},
   "outputs": [],
   "source": [
    "#df_wc_ranked = df_wc_ranked.merge(vencedores,how='left',right_on=['TargetCopa'],left_on=['home_team'])\n",
    "#df_wc_ranked = df_wc_ranked.merge(vencedores,how='left',right_on=['TargetCopa'],left_on=['away_team'],suffixes=(\"_home\", \"_away\")).drop(['TargetCopa_home','TargetCopa_away'],axis=1).fillna(0)"
   ]
  },
  {
   "cell_type": "code",
   "execution_count": 602,
   "metadata": {},
   "outputs": [],
   "source": [
    "df_wc_ranked = df_wc_ranked.merge(golsMarcados,how='left',right_on=['pais'],left_on=['home_team'])\n",
    "df_wc_ranked = df_wc_ranked.merge(golsMarcados,how='left',right_on=['pais'],left_on=['away_team'],suffixes=(\"_home\", \"_away\")).drop(['pais_home','pais_away'],axis=1).fillna(0)"
   ]
  },
  {
   "cell_type": "code",
   "execution_count": 582,
   "metadata": {},
   "outputs": [],
   "source": [
    "df_wc_ranked['diff_rank'] = df_wc_ranked['rank_home']-df_wc_ranked['rank_away']\n",
    "df_wc_ranked['diff_points'] = df_wc_ranked['total_points_home']-df_wc_ranked['total_points_away']\n",
    "# df_wc_ranked['diff_saldo_gols'] = df_wc_ranked['saldoDeGols_home']-df_wc_ranked['saldoDeGols_away']\n",
    "# df_wc_ranked['diff_5_saldo_gols'] = df_wc_ranked['saldoGols5UltJHome']-df_wc_ranked['saldoGols5UltJAway']"
   ]
  },
  {
   "cell_type": "code",
   "execution_count": 603,
   "metadata": {},
   "outputs": [
    {
     "data": {
      "text/plain": [
       "Index(['date', 'home_team', 'away_team', 'home_score', 'away_score',\n",
       "       'tournament', 'city', 'country', 'neutral', 'total_points_home',\n",
       "       'previous_points_home', 'rank_home', 'rank_change_home',\n",
       "       'total_points_away', 'previous_points_away', 'rank_away',\n",
       "       'rank_change_away', 'Med5UltJRankHome', 'Med5UltJRankAway', 'diff_rank',\n",
       "       'diff_points', 'Target', 'Target_V', 'flag_amistoso',\n",
       "       'flag_is_campo_neutro', 'QtdVit5UltJHome', 'QtdVit5UltJAway',\n",
       "       'QtdVit10UltJHome', 'QtdVit10UltJAway', 'QtdVit2UltJHome',\n",
       "       'QtdVit2UltJAway', 'QtdEmp5UltJHome', 'QtdEmp5UltJAway',\n",
       "       'saldoGols5UltJHome', 'saldoGols5UltJAway', 'saldoDeGols_home',\n",
       "       'saldoDeGols_away'],\n",
       "      dtype='object')"
      ]
     },
     "execution_count": 603,
     "metadata": {},
     "output_type": "execute_result"
    }
   ],
   "source": [
    "df_wc_ranked.columns"
   ]
  },
  {
   "cell_type": "code",
   "execution_count": 632,
   "metadata": {},
   "outputs": [
    {
     "data": {
      "text/html": [
       "<div>\n",
       "<style scoped>\n",
       "    .dataframe tbody tr th:only-of-type {\n",
       "        vertical-align: middle;\n",
       "    }\n",
       "\n",
       "    .dataframe tbody tr th {\n",
       "        vertical-align: top;\n",
       "    }\n",
       "\n",
       "    .dataframe thead th {\n",
       "        text-align: right;\n",
       "    }\n",
       "</style>\n",
       "<table border=\"1\" class=\"dataframe\">\n",
       "  <thead>\n",
       "    <tr style=\"text-align: right;\">\n",
       "      <th></th>\n",
       "      <th>diff_rank</th>\n",
       "      <th>diff_points</th>\n",
       "      <th>saldoGols5UltJHome</th>\n",
       "      <th>saldoGols5UltJAway</th>\n",
       "      <th>saldoDeGols_home</th>\n",
       "      <th>saldoDeGols_away</th>\n",
       "      <th>QtdVit10UltJHome</th>\n",
       "      <th>QtdVit10UltJAway</th>\n",
       "    </tr>\n",
       "  </thead>\n",
       "  <tbody>\n",
       "    <tr>\n",
       "      <th>0</th>\n",
       "      <td>1.0</td>\n",
       "      <td>-7.00</td>\n",
       "      <td>0.012270</td>\n",
       "      <td>0.012270</td>\n",
       "      <td>-7.0</td>\n",
       "      <td>-37.0</td>\n",
       "      <td>0.006135</td>\n",
       "      <td>0.000000</td>\n",
       "    </tr>\n",
       "    <tr>\n",
       "      <th>1</th>\n",
       "      <td>17.0</td>\n",
       "      <td>-85.00</td>\n",
       "      <td>-0.029703</td>\n",
       "      <td>-0.029703</td>\n",
       "      <td>-1.0</td>\n",
       "      <td>19.0</td>\n",
       "      <td>0.000000</td>\n",
       "      <td>0.011905</td>\n",
       "    </tr>\n",
       "    <tr>\n",
       "      <th>2</th>\n",
       "      <td>-35.0</td>\n",
       "      <td>245.00</td>\n",
       "      <td>0.000000</td>\n",
       "      <td>0.000000</td>\n",
       "      <td>37.0</td>\n",
       "      <td>-6.0</td>\n",
       "      <td>0.000000</td>\n",
       "      <td>0.000000</td>\n",
       "    </tr>\n",
       "    <tr>\n",
       "      <th>3</th>\n",
       "      <td>53.0</td>\n",
       "      <td>-192.00</td>\n",
       "      <td>0.007692</td>\n",
       "      <td>0.007692</td>\n",
       "      <td>-59.0</td>\n",
       "      <td>23.0</td>\n",
       "      <td>0.007692</td>\n",
       "      <td>0.000000</td>\n",
       "    </tr>\n",
       "    <tr>\n",
       "      <th>4</th>\n",
       "      <td>114.0</td>\n",
       "      <td>-420.00</td>\n",
       "      <td>-0.011905</td>\n",
       "      <td>-0.011905</td>\n",
       "      <td>-39.0</td>\n",
       "      <td>8.0</td>\n",
       "      <td>0.000000</td>\n",
       "      <td>0.018519</td>\n",
       "    </tr>\n",
       "    <tr>\n",
       "      <th>...</th>\n",
       "      <td>...</td>\n",
       "      <td>...</td>\n",
       "      <td>...</td>\n",
       "      <td>...</td>\n",
       "      <td>...</td>\n",
       "      <td>...</td>\n",
       "      <td>...</td>\n",
       "      <td>...</td>\n",
       "    </tr>\n",
       "    <tr>\n",
       "      <th>3343</th>\n",
       "      <td>3.0</td>\n",
       "      <td>-17.80</td>\n",
       "      <td>-0.030303</td>\n",
       "      <td>-0.030303</td>\n",
       "      <td>-11.0</td>\n",
       "      <td>-43.0</td>\n",
       "      <td>0.030303</td>\n",
       "      <td>0.031746</td>\n",
       "    </tr>\n",
       "    <tr>\n",
       "      <th>3344</th>\n",
       "      <td>11.0</td>\n",
       "      <td>-60.96</td>\n",
       "      <td>0.055556</td>\n",
       "      <td>0.055556</td>\n",
       "      <td>41.0</td>\n",
       "      <td>35.0</td>\n",
       "      <td>0.166667</td>\n",
       "      <td>0.280000</td>\n",
       "    </tr>\n",
       "    <tr>\n",
       "      <th>3345</th>\n",
       "      <td>-45.0</td>\n",
       "      <td>190.96</td>\n",
       "      <td>-0.200000</td>\n",
       "      <td>-0.200000</td>\n",
       "      <td>14.0</td>\n",
       "      <td>13.0</td>\n",
       "      <td>0.150000</td>\n",
       "      <td>0.030769</td>\n",
       "    </tr>\n",
       "    <tr>\n",
       "      <th>3346</th>\n",
       "      <td>-2.0</td>\n",
       "      <td>3.38</td>\n",
       "      <td>-0.009434</td>\n",
       "      <td>-0.009434</td>\n",
       "      <td>16.0</td>\n",
       "      <td>-50.0</td>\n",
       "      <td>0.028302</td>\n",
       "      <td>0.018519</td>\n",
       "    </tr>\n",
       "    <tr>\n",
       "      <th>3347</th>\n",
       "      <td>-9.0</td>\n",
       "      <td>42.35</td>\n",
       "      <td>0.122449</td>\n",
       "      <td>0.122449</td>\n",
       "      <td>8.0</td>\n",
       "      <td>-15.0</td>\n",
       "      <td>0.102041</td>\n",
       "      <td>0.051724</td>\n",
       "    </tr>\n",
       "  </tbody>\n",
       "</table>\n",
       "<p>3348 rows × 8 columns</p>\n",
       "</div>"
      ],
      "text/plain": [
       "      diff_rank  diff_points  saldoGols5UltJHome  saldoGols5UltJAway  \\\n",
       "0           1.0        -7.00            0.012270            0.012270   \n",
       "1          17.0       -85.00           -0.029703           -0.029703   \n",
       "2         -35.0       245.00            0.000000            0.000000   \n",
       "3          53.0      -192.00            0.007692            0.007692   \n",
       "4         114.0      -420.00           -0.011905           -0.011905   \n",
       "...         ...          ...                 ...                 ...   \n",
       "3343        3.0       -17.80           -0.030303           -0.030303   \n",
       "3344       11.0       -60.96            0.055556            0.055556   \n",
       "3345      -45.0       190.96           -0.200000           -0.200000   \n",
       "3346       -2.0         3.38           -0.009434           -0.009434   \n",
       "3347       -9.0        42.35            0.122449            0.122449   \n",
       "\n",
       "      saldoDeGols_home  saldoDeGols_away  QtdVit10UltJHome  QtdVit10UltJAway  \n",
       "0                 -7.0             -37.0          0.006135          0.000000  \n",
       "1                 -1.0              19.0          0.000000          0.011905  \n",
       "2                 37.0              -6.0          0.000000          0.000000  \n",
       "3                -59.0              23.0          0.007692          0.000000  \n",
       "4                -39.0               8.0          0.000000          0.018519  \n",
       "...                ...               ...               ...               ...  \n",
       "3343             -11.0             -43.0          0.030303          0.031746  \n",
       "3344              41.0              35.0          0.166667          0.280000  \n",
       "3345              14.0              13.0          0.150000          0.030769  \n",
       "3346              16.0             -50.0          0.028302          0.018519  \n",
       "3347               8.0             -15.0          0.102041          0.051724  \n",
       "\n",
       "[3348 rows x 8 columns]"
      ]
     },
     "execution_count": 632,
     "metadata": {},
     "output_type": "execute_result"
    }
   ],
   "source": [
    "#X = df_wc_ranked.loc[:,'total_points_home':].drop('Target',axis=1)\n",
    "X = df_wc_ranked[['Target','diff_rank','diff_points',\n",
    "                'saldoGols5UltJHome', 'saldoGols5UltJAway','saldoDeGols_home',\n",
    "                 'saldoDeGols_away','QtdVit10UltJHome', 'QtdVit10UltJAway']].drop('Target',axis=1)\n",
    "Y =  df_wc_ranked[['Target']]\n",
    "X"
   ]
  },
  {
   "cell_type": "code",
   "execution_count": 633,
   "metadata": {},
   "outputs": [],
   "source": [
    "X_train, X_test, y_train, y_test = train_test_split(X,Y,test_size=0.3,random_state=2)"
   ]
  },
  {
   "cell_type": "code",
   "execution_count": 640,
   "metadata": {},
   "outputs": [
    {
     "name": "stderr",
     "output_type": "stream",
     "text": [
      "A column-vector y was passed when a 1d array was expected. Please change the shape of y to (n_samples,), for example using ravel().\n"
     ]
    }
   ],
   "source": [
    "rf = RandomForestClassifier(random_state=2,max_depth=5,n_estimators=100,warm_start=True) \n",
    "model_rf = rf.fit(X_train.fillna(-1000),y_train.fillna(0))"
   ]
  },
  {
   "cell_type": "code",
   "execution_count": 641,
   "metadata": {},
   "outputs": [
    {
     "name": "stdout",
     "output_type": "stream",
     "text": [
      "74.64788732394366\n",
      "70.44776119402985\n"
     ]
    }
   ],
   "source": [
    "predict = model_rf.predict_proba(X_test.fillna(-1000))\n",
    "previsao = model_rf.predict(X_test.fillna(-1000))\n",
    "predict_train = model_rf.predict(X_train.fillna(-1000))\n",
    "previsaoTrain = model_rf.predict_proba(X_train.fillna(-1000))\n",
    "\n",
    "print(accuracy_score(predict_train,y_train)*100)\n",
    "print(accuracy_score(previsao,y_test)*100)"
   ]
  },
  {
   "cell_type": "code",
   "execution_count": 644,
   "metadata": {},
   "outputs": [
    {
     "data": {
      "text/plain": [
       "0       0.517792\n",
       "1       0.276499\n",
       "2       0.802410\n",
       "3       0.154659\n",
       "4       0.113015\n",
       "          ...   \n",
       "3343    0.460597\n",
       "3344    0.349206\n",
       "3345    0.599438\n",
       "3346    0.551178\n",
       "3347    0.484661\n",
       "Name: proba_1, Length: 3348, dtype: float64"
      ]
     },
     "execution_count": 644,
     "metadata": {},
     "output_type": "execute_result"
    }
   ],
   "source": [
    "df_wc_ranked['proba_0'] = model_rf.predict_proba(df_wc_ranked[X.columns].fillna(-1000))[:,0]\n",
    "df_wc_ranked['proba_1'] = model_rf.predict_proba(df_wc_ranked[X.columns].fillna(-1000))[:,1]\n",
    "df_wc_ranked['proba_1']"
   ]
  },
  {
   "cell_type": "code",
   "execution_count": 645,
   "metadata": {},
   "outputs": [],
   "source": [
    "df_wc_ranked['diff'] = np.abs(df_wc_ranked['proba_0']-df_wc_ranked['proba_1'])"
   ]
  },
  {
   "cell_type": "code",
   "execution_count": 649,
   "metadata": {},
   "outputs": [],
   "source": [
    "df_wc_ranked['trecil1'] = pd.cut(df_wc_ranked['proba_0'],10,duplicates='drop')\n",
    "df_wc_ranked['trecil2'] = pd.cut(df_wc_ranked['proba_1'],10,duplicates='drop')"
   ]
  },
  {
   "cell_type": "code",
   "execution_count": 650,
   "metadata": {},
   "outputs": [
    {
     "data": {
      "text/html": [
       "<div>\n",
       "<style scoped>\n",
       "    .dataframe tbody tr th:only-of-type {\n",
       "        vertical-align: middle;\n",
       "    }\n",
       "\n",
       "    .dataframe tbody tr th {\n",
       "        vertical-align: top;\n",
       "    }\n",
       "\n",
       "    .dataframe thead tr th {\n",
       "        text-align: left;\n",
       "    }\n",
       "\n",
       "    .dataframe thead tr:last-of-type th {\n",
       "        text-align: right;\n",
       "    }\n",
       "</style>\n",
       "<table border=\"1\" class=\"dataframe\">\n",
       "  <thead>\n",
       "    <tr>\n",
       "      <th></th>\n",
       "      <th colspan=\"3\" halign=\"left\">Target_V</th>\n",
       "    </tr>\n",
       "    <tr>\n",
       "      <th>Target_V</th>\n",
       "      <th>0</th>\n",
       "      <th>1</th>\n",
       "      <th>2</th>\n",
       "    </tr>\n",
       "    <tr>\n",
       "      <th>trecil1</th>\n",
       "      <th></th>\n",
       "      <th></th>\n",
       "      <th></th>\n",
       "    </tr>\n",
       "  </thead>\n",
       "  <tbody>\n",
       "    <tr>\n",
       "      <th>(0.031, 0.125]</th>\n",
       "      <td>7</td>\n",
       "      <td>157</td>\n",
       "      <td>0</td>\n",
       "    </tr>\n",
       "    <tr>\n",
       "      <th>(0.125, 0.218]</th>\n",
       "      <td>21</td>\n",
       "      <td>261</td>\n",
       "      <td>10</td>\n",
       "    </tr>\n",
       "    <tr>\n",
       "      <th>(0.218, 0.31]</th>\n",
       "      <td>55</td>\n",
       "      <td>301</td>\n",
       "      <td>20</td>\n",
       "    </tr>\n",
       "    <tr>\n",
       "      <th>(0.31, 0.403]</th>\n",
       "      <td>69</td>\n",
       "      <td>155</td>\n",
       "      <td>32</td>\n",
       "    </tr>\n",
       "    <tr>\n",
       "      <th>(0.403, 0.496]</th>\n",
       "      <td>81</td>\n",
       "      <td>186</td>\n",
       "      <td>48</td>\n",
       "    </tr>\n",
       "    <tr>\n",
       "      <th>(0.496, 0.589]</th>\n",
       "      <td>192</td>\n",
       "      <td>277</td>\n",
       "      <td>119</td>\n",
       "    </tr>\n",
       "    <tr>\n",
       "      <th>(0.589, 0.682]</th>\n",
       "      <td>136</td>\n",
       "      <td>146</td>\n",
       "      <td>154</td>\n",
       "    </tr>\n",
       "    <tr>\n",
       "      <th>(0.682, 0.774]</th>\n",
       "      <td>98</td>\n",
       "      <td>78</td>\n",
       "      <td>169</td>\n",
       "    </tr>\n",
       "    <tr>\n",
       "      <th>(0.774, 0.867]</th>\n",
       "      <td>80</td>\n",
       "      <td>38</td>\n",
       "      <td>170</td>\n",
       "    </tr>\n",
       "    <tr>\n",
       "      <th>(0.867, 0.96]</th>\n",
       "      <td>45</td>\n",
       "      <td>11</td>\n",
       "      <td>232</td>\n",
       "    </tr>\n",
       "  </tbody>\n",
       "</table>\n",
       "</div>"
      ],
      "text/plain": [
       "               Target_V          \n",
       "Target_V              0    1    2\n",
       "trecil1                          \n",
       "(0.031, 0.125]        7  157    0\n",
       "(0.125, 0.218]       21  261   10\n",
       "(0.218, 0.31]        55  301   20\n",
       "(0.31, 0.403]        69  155   32\n",
       "(0.403, 0.496]       81  186   48\n",
       "(0.496, 0.589]      192  277  119\n",
       "(0.589, 0.682]      136  146  154\n",
       "(0.682, 0.774]       98   78  169\n",
       "(0.774, 0.867]       80   38  170\n",
       "(0.867, 0.96]        45   11  232"
      ]
     },
     "execution_count": 650,
     "metadata": {},
     "output_type": "execute_result"
    }
   ],
   "source": [
    "df_wc_ranked.groupby(['trecil1','Target_V'])[['Target_V']].count().unstack()"
   ]
  },
  {
   "cell_type": "code",
   "execution_count": 651,
   "metadata": {},
   "outputs": [
    {
     "data": {
      "text/html": [
       "<div>\n",
       "<style scoped>\n",
       "    .dataframe tbody tr th:only-of-type {\n",
       "        vertical-align: middle;\n",
       "    }\n",
       "\n",
       "    .dataframe tbody tr th {\n",
       "        vertical-align: top;\n",
       "    }\n",
       "\n",
       "    .dataframe thead tr th {\n",
       "        text-align: left;\n",
       "    }\n",
       "\n",
       "    .dataframe thead tr:last-of-type th {\n",
       "        text-align: right;\n",
       "    }\n",
       "</style>\n",
       "<table border=\"1\" class=\"dataframe\">\n",
       "  <thead>\n",
       "    <tr>\n",
       "      <th></th>\n",
       "      <th colspan=\"3\" halign=\"left\">Target_V</th>\n",
       "    </tr>\n",
       "    <tr>\n",
       "      <th>Target_V</th>\n",
       "      <th>0</th>\n",
       "      <th>1</th>\n",
       "      <th>2</th>\n",
       "    </tr>\n",
       "    <tr>\n",
       "      <th>trecil2</th>\n",
       "      <th></th>\n",
       "      <th></th>\n",
       "      <th></th>\n",
       "    </tr>\n",
       "  </thead>\n",
       "  <tbody>\n",
       "    <tr>\n",
       "      <th>(0.039, 0.133]</th>\n",
       "      <td>45</td>\n",
       "      <td>11</td>\n",
       "      <td>232</td>\n",
       "    </tr>\n",
       "    <tr>\n",
       "      <th>(0.133, 0.226]</th>\n",
       "      <td>80</td>\n",
       "      <td>38</td>\n",
       "      <td>170</td>\n",
       "    </tr>\n",
       "    <tr>\n",
       "      <th>(0.226, 0.318]</th>\n",
       "      <td>98</td>\n",
       "      <td>78</td>\n",
       "      <td>169</td>\n",
       "    </tr>\n",
       "    <tr>\n",
       "      <th>(0.318, 0.411]</th>\n",
       "      <td>136</td>\n",
       "      <td>146</td>\n",
       "      <td>154</td>\n",
       "    </tr>\n",
       "    <tr>\n",
       "      <th>(0.411, 0.504]</th>\n",
       "      <td>192</td>\n",
       "      <td>277</td>\n",
       "      <td>119</td>\n",
       "    </tr>\n",
       "    <tr>\n",
       "      <th>(0.504, 0.597]</th>\n",
       "      <td>81</td>\n",
       "      <td>186</td>\n",
       "      <td>48</td>\n",
       "    </tr>\n",
       "    <tr>\n",
       "      <th>(0.597, 0.69]</th>\n",
       "      <td>69</td>\n",
       "      <td>155</td>\n",
       "      <td>32</td>\n",
       "    </tr>\n",
       "    <tr>\n",
       "      <th>(0.69, 0.782]</th>\n",
       "      <td>55</td>\n",
       "      <td>301</td>\n",
       "      <td>20</td>\n",
       "    </tr>\n",
       "    <tr>\n",
       "      <th>(0.782, 0.875]</th>\n",
       "      <td>21</td>\n",
       "      <td>261</td>\n",
       "      <td>10</td>\n",
       "    </tr>\n",
       "    <tr>\n",
       "      <th>(0.875, 0.968]</th>\n",
       "      <td>7</td>\n",
       "      <td>157</td>\n",
       "      <td>0</td>\n",
       "    </tr>\n",
       "  </tbody>\n",
       "</table>\n",
       "</div>"
      ],
      "text/plain": [
       "               Target_V          \n",
       "Target_V              0    1    2\n",
       "trecil2                          \n",
       "(0.039, 0.133]       45   11  232\n",
       "(0.133, 0.226]       80   38  170\n",
       "(0.226, 0.318]       98   78  169\n",
       "(0.318, 0.411]      136  146  154\n",
       "(0.411, 0.504]      192  277  119\n",
       "(0.504, 0.597]       81  186   48\n",
       "(0.597, 0.69]        69  155   32\n",
       "(0.69, 0.782]        55  301   20\n",
       "(0.782, 0.875]       21  261   10\n",
       "(0.875, 0.968]        7  157    0"
      ]
     },
     "execution_count": 651,
     "metadata": {},
     "output_type": "execute_result"
    }
   ],
   "source": [
    "df_wc_ranked.groupby(['trecil2','Target_V'])[['Target_V']].count().unstack()"
   ]
  },
  {
   "cell_type": "code",
   "execution_count": 512,
   "metadata": {},
   "outputs": [
    {
     "data": {
      "text/plain": [
       "1    696\n",
       "0    434\n",
       "2    331\n",
       "Name: Target_V, dtype: int64"
      ]
     },
     "execution_count": 512,
     "metadata": {},
     "output_type": "execute_result"
    }
   ],
   "source": [
    "df_wc_ranked[df_wc_ranked['diff']<=]['Target_V'].value_counts()"
   ]
  },
  {
   "cell_type": "code",
   "execution_count": null,
   "metadata": {},
   "outputs": [],
   "source": []
  },
  {
   "cell_type": "code",
   "execution_count": null,
   "metadata": {},
   "outputs": [],
   "source": []
  },
  {
   "cell_type": "code",
   "execution_count": 477,
   "metadata": {},
   "outputs": [],
   "source": [
    "resultados = pd.DataFrame({'Jogo':[i for i in range(len(y_test))],'resultEsper':list(y_test['Target']),'previsao':list(previsao),'proba_0':list(x[0] for x in predict), 'proba_1':list(x[1] for x in predict)})"
   ]
  },
  {
   "cell_type": "code",
   "execution_count": 486,
   "metadata": {},
   "outputs": [],
   "source": [
    "resultados['dif'] = np.abs(resultados['proba_0']-resultados['proba_1'])"
   ]
  },
  {
   "cell_type": "code",
   "execution_count": 490,
   "metadata": {},
   "outputs": [
    {
     "data": {
      "text/plain": [
       "0    528\n",
       "1    477\n",
       "Name: resultEsper, dtype: int64"
      ]
     },
     "execution_count": 490,
     "metadata": {},
     "output_type": "execute_result"
    }
   ],
   "source": [
    "resultados[(resultados['dif']>=0) & (resultados['dif']<=10)]['resultEsper'].value_counts()"
   ]
  },
  {
   "cell_type": "code",
   "execution_count": 491,
   "metadata": {},
   "outputs": [
    {
     "data": {
      "text/plain": [
       "0    591\n",
       "1    414\n",
       "Name: previsao, dtype: int64"
      ]
     },
     "execution_count": 491,
     "metadata": {},
     "output_type": "execute_result"
    }
   ],
   "source": [
    "resultados['previsao'].value_counts()"
   ]
  },
  {
   "cell_type": "code",
   "execution_count": null,
   "metadata": {},
   "outputs": [],
   "source": []
  },
  {
   "cell_type": "code",
   "execution_count": null,
   "metadata": {},
   "outputs": [],
   "source": []
  },
  {
   "cell_type": "code",
   "execution_count": null,
   "metadata": {},
   "outputs": [],
   "source": []
  },
  {
   "cell_type": "code",
   "execution_count": null,
   "metadata": {},
   "outputs": [],
   "source": []
  },
  {
   "cell_type": "code",
   "execution_count": null,
   "metadata": {},
   "outputs": [],
   "source": []
  },
  {
   "cell_type": "code",
   "execution_count": 362,
   "metadata": {},
   "outputs": [
    {
     "ename": "IndexError",
     "evalue": "index 2 is out of bounds for axis 0 with size 2",
     "output_type": "error",
     "traceback": [
      "\u001b[0;31m---------------------------------------------------------------------------\u001b[0m",
      "\u001b[0;31mIndexError\u001b[0m                                Traceback (most recent call last)",
      "\u001b[1;32m/home/vitor/Documentos/Cefet/Períodos/7ºPeriodo/TrabalhoIA/copaMundo.ipynb Cell 30\u001b[0m in \u001b[0;36m<cell line: 1>\u001b[0;34m()\u001b[0m\n\u001b[0;32m----> <a href='vscode-notebook-cell:/home/vitor/Documentos/Cefet/Per%C3%ADodos/7%C2%BAPeriodo/TrabalhoIA/copaMundo.ipynb#Y320sZmlsZQ%3D%3D?line=0'>1</a>\u001b[0m resultados \u001b[39m=\u001b[39m pd\u001b[39m.\u001b[39mDataFrame({\u001b[39m'\u001b[39m\u001b[39mJogo\u001b[39m\u001b[39m'\u001b[39m:[i \u001b[39mfor\u001b[39;00m i \u001b[39min\u001b[39;00m \u001b[39mrange\u001b[39m(\u001b[39mlen\u001b[39m(y_test))],\u001b[39m'\u001b[39m\u001b[39mresultEsper\u001b[39m\u001b[39m'\u001b[39m:\u001b[39mlist\u001b[39m(y_test[\u001b[39m'\u001b[39m\u001b[39mTarget\u001b[39m\u001b[39m'\u001b[39m]),\u001b[39m'\u001b[39m\u001b[39mprevisao\u001b[39m\u001b[39m'\u001b[39m:\u001b[39mlist\u001b[39m(previsao),\u001b[39m'\u001b[39m\u001b[39mproba_0\u001b[39m\u001b[39m'\u001b[39m:\u001b[39mlist\u001b[39m(x[\u001b[39m0\u001b[39m] \u001b[39mfor\u001b[39;00m x \u001b[39min\u001b[39;00m predict), \u001b[39m'\u001b[39m\u001b[39mproba_1\u001b[39m\u001b[39m'\u001b[39m:\u001b[39mlist\u001b[39m(x[\u001b[39m1\u001b[39m] \u001b[39mfor\u001b[39;00m x \u001b[39min\u001b[39;00m predict),\u001b[39m'\u001b[39m\u001b[39mproba_2\u001b[39m\u001b[39m'\u001b[39m:\u001b[39mlist\u001b[39;49m(x[\u001b[39m2\u001b[39;49m] \u001b[39mfor\u001b[39;49;00m x \u001b[39min\u001b[39;49;00m predict)})\n",
      "\u001b[1;32m/home/vitor/Documentos/Cefet/Períodos/7ºPeriodo/TrabalhoIA/copaMundo.ipynb Cell 30\u001b[0m in \u001b[0;36m<genexpr>\u001b[0;34m(.0)\u001b[0m\n\u001b[0;32m----> <a href='vscode-notebook-cell:/home/vitor/Documentos/Cefet/Per%C3%ADodos/7%C2%BAPeriodo/TrabalhoIA/copaMundo.ipynb#Y320sZmlsZQ%3D%3D?line=0'>1</a>\u001b[0m resultados \u001b[39m=\u001b[39m pd\u001b[39m.\u001b[39mDataFrame({\u001b[39m'\u001b[39m\u001b[39mJogo\u001b[39m\u001b[39m'\u001b[39m:[i \u001b[39mfor\u001b[39;00m i \u001b[39min\u001b[39;00m \u001b[39mrange\u001b[39m(\u001b[39mlen\u001b[39m(y_test))],\u001b[39m'\u001b[39m\u001b[39mresultEsper\u001b[39m\u001b[39m'\u001b[39m:\u001b[39mlist\u001b[39m(y_test[\u001b[39m'\u001b[39m\u001b[39mTarget\u001b[39m\u001b[39m'\u001b[39m]),\u001b[39m'\u001b[39m\u001b[39mprevisao\u001b[39m\u001b[39m'\u001b[39m:\u001b[39mlist\u001b[39m(previsao),\u001b[39m'\u001b[39m\u001b[39mproba_0\u001b[39m\u001b[39m'\u001b[39m:\u001b[39mlist\u001b[39m(x[\u001b[39m0\u001b[39m] \u001b[39mfor\u001b[39;00m x \u001b[39min\u001b[39;00m predict), \u001b[39m'\u001b[39m\u001b[39mproba_1\u001b[39m\u001b[39m'\u001b[39m:\u001b[39mlist\u001b[39m(x[\u001b[39m1\u001b[39m] \u001b[39mfor\u001b[39;00m x \u001b[39min\u001b[39;00m predict),\u001b[39m'\u001b[39m\u001b[39mproba_2\u001b[39m\u001b[39m'\u001b[39m:\u001b[39mlist\u001b[39m(x[\u001b[39m2\u001b[39m] \u001b[39mfor\u001b[39;00m x \u001b[39min\u001b[39;00m predict)})\n",
      "\u001b[0;31mIndexError\u001b[0m: index 2 is out of bounds for axis 0 with size 2"
     ]
    }
   ],
   "source": [
    "resultados = pd.DataFrame({'Jogo':[i for i in range(len(y_test))],'resultEsper':list(y_test['Target']),'previsao':list(previsao),'proba_0':list(x[0] for x in predict), 'proba_1':list(x[1] for x in predict),'proba_2':list(x[2] for x in predict)})"
   ]
  },
  {
   "cell_type": "code",
   "execution_count": 293,
   "metadata": {},
   "outputs": [],
   "source": [
    "resultados['decil_proba0'] = pd.cut(resultados['proba_0'],10,duplicates='drop')\n",
    "resultados['decil_proba1'] = pd.cut(resultados['proba_1'],10,duplicates='drop') \n",
    "resultados['decil_proba2'] = pd.cut(resultados['proba_2'],10,duplicates='drop')"
   ]
  },
  {
   "cell_type": "code",
   "execution_count": 324,
   "metadata": {},
   "outputs": [
    {
     "data": {
      "text/plain": [
       "decil_proba0\n",
       "(0.043, 0.0783]     8.823529\n",
       "(0.0783, 0.113]     8.620690\n",
       "(0.113, 0.148]     10.975610\n",
       "(0.148, 0.183]     21.818182\n",
       "(0.183, 0.218]     26.923077\n",
       "(0.218, 0.253]     24.305556\n",
       "(0.253, 0.288]     30.769231\n",
       "(0.288, 0.322]     29.556650\n",
       "(0.322, 0.357]     24.761905\n",
       "(0.357, 0.392]     44.444444\n",
       "Name: decil_proba0, dtype: float64"
      ]
     },
     "execution_count": 324,
     "metadata": {},
     "output_type": "execute_result"
    }
   ],
   "source": [
    "resultados.query('resultEsper==0').groupby(['decil_proba0'])['decil_proba0'].count()/resultados.groupby(['decil_proba0'])['decil_proba0'].count()*100"
   ]
  },
  {
   "cell_type": "code",
   "execution_count": 325,
   "metadata": {},
   "outputs": [
    {
     "data": {
      "text/plain": [
       "decil_proba2\n",
       "(0.0146, 0.107]    0.148438\n",
       "(0.107, 0.198]     0.279762\n",
       "(0.198, 0.289]     0.280374\n",
       "(0.289, 0.38]      0.283784\n",
       "(0.38, 0.471]      0.362069\n",
       "(0.471, 0.562]     0.220339\n",
       "(0.562, 0.653]     0.343284\n",
       "(0.653, 0.744]     0.269231\n",
       "(0.744, 0.835]     0.096774\n",
       "(0.835, 0.926]     0.038462\n",
       "Name: decil_proba2, dtype: float64"
      ]
     },
     "execution_count": 325,
     "metadata": {},
     "output_type": "execute_result"
    }
   ],
   "source": [
    "resultados.query('resultEsper==0').groupby(['decil_proba2'])['decil_proba2'].count()/resultados.groupby(['decil_proba2'])['decil_proba2'].count()"
   ]
  },
  {
   "cell_type": "code",
   "execution_count": 296,
   "metadata": {},
   "outputs": [
    {
     "data": {
      "text/html": [
       "<div>\n",
       "<style scoped>\n",
       "    .dataframe tbody tr th:only-of-type {\n",
       "        vertical-align: middle;\n",
       "    }\n",
       "\n",
       "    .dataframe tbody tr th {\n",
       "        vertical-align: top;\n",
       "    }\n",
       "\n",
       "    .dataframe thead th {\n",
       "        text-align: right;\n",
       "    }\n",
       "</style>\n",
       "<table border=\"1\" class=\"dataframe\">\n",
       "  <thead>\n",
       "    <tr style=\"text-align: right;\">\n",
       "      <th></th>\n",
       "      <th>Jogo</th>\n",
       "      <th>resultEsper</th>\n",
       "      <th>previsao</th>\n",
       "      <th>proba_0</th>\n",
       "      <th>proba_1</th>\n",
       "      <th>proba_2</th>\n",
       "      <th>decil_proba0</th>\n",
       "      <th>decil_proba1</th>\n",
       "      <th>decil_proba2</th>\n",
       "    </tr>\n",
       "  </thead>\n",
       "  <tbody>\n",
       "    <tr>\n",
       "      <th>556</th>\n",
       "      <td>556</td>\n",
       "      <td>0</td>\n",
       "      <td>0</td>\n",
       "      <td>0.391537</td>\n",
       "      <td>0.360329</td>\n",
       "      <td>0.248134</td>\n",
       "      <td>(0.357, 0.392]</td>\n",
       "      <td>(0.294, 0.387]</td>\n",
       "      <td>(0.198, 0.289]</td>\n",
       "    </tr>\n",
       "    <tr>\n",
       "      <th>574</th>\n",
       "      <td>574</td>\n",
       "      <td>0</td>\n",
       "      <td>0</td>\n",
       "      <td>0.384150</td>\n",
       "      <td>0.371617</td>\n",
       "      <td>0.244233</td>\n",
       "      <td>(0.357, 0.392]</td>\n",
       "      <td>(0.294, 0.387]</td>\n",
       "      <td>(0.198, 0.289]</td>\n",
       "    </tr>\n",
       "    <tr>\n",
       "      <th>766</th>\n",
       "      <td>766</td>\n",
       "      <td>0</td>\n",
       "      <td>0</td>\n",
       "      <td>0.392256</td>\n",
       "      <td>0.379051</td>\n",
       "      <td>0.228693</td>\n",
       "      <td>(0.357, 0.392]</td>\n",
       "      <td>(0.294, 0.387]</td>\n",
       "      <td>(0.198, 0.289]</td>\n",
       "    </tr>\n",
       "  </tbody>\n",
       "</table>\n",
       "</div>"
      ],
      "text/plain": [
       "     Jogo  resultEsper  previsao   proba_0   proba_1   proba_2  \\\n",
       "556   556            0         0  0.391537  0.360329  0.248134   \n",
       "574   574            0         0  0.384150  0.371617  0.244233   \n",
       "766   766            0         0  0.392256  0.379051  0.228693   \n",
       "\n",
       "       decil_proba0    decil_proba1    decil_proba2  \n",
       "556  (0.357, 0.392]  (0.294, 0.387]  (0.198, 0.289]  \n",
       "574  (0.357, 0.392]  (0.294, 0.387]  (0.198, 0.289]  \n",
       "766  (0.357, 0.392]  (0.294, 0.387]  (0.198, 0.289]  "
      ]
     },
     "execution_count": 296,
     "metadata": {},
     "output_type": "execute_result"
    }
   ],
   "source": [
    "resultados.query('resultEsper==0 & previsao==0')"
   ]
  },
  {
   "cell_type": "code",
   "execution_count": 285,
   "metadata": {},
   "outputs": [
    {
     "data": {
      "text/plain": [
       "1    685\n",
       "2    316\n",
       "0      4\n",
       "Name: previsao, dtype: int64"
      ]
     },
     "execution_count": 285,
     "metadata": {},
     "output_type": "execute_result"
    }
   ],
   "source": [
    "resultados['previsao'].value_counts()"
   ]
  },
  {
   "cell_type": "code",
   "execution_count": 278,
   "metadata": {},
   "outputs": [
    {
     "data": {
      "text/plain": [
       "1    477\n",
       "2    287\n",
       "0    241\n",
       "Name: resultEsper, dtype: int64"
      ]
     },
     "execution_count": 278,
     "metadata": {},
     "output_type": "execute_result"
    }
   ],
   "source": [
    "resultados['resultEsper'].value_counts()"
   ]
  },
  {
   "cell_type": "code",
   "execution_count": null,
   "metadata": {},
   "outputs": [],
   "source": []
  },
  {
   "cell_type": "code",
   "execution_count": null,
   "metadata": {},
   "outputs": [],
   "source": []
  },
  {
   "cell_type": "code",
   "execution_count": 642,
   "metadata": {},
   "outputs": [],
   "source": [
    "features = X.columns"
   ]
  },
  {
   "cell_type": "code",
   "execution_count": 643,
   "metadata": {},
   "outputs": [
    {
     "name": "stdout",
     "output_type": "stream",
     "text": [
      "diff_points: 28.793231%\n",
      "diff_rank: 24.786379%\n",
      "saldoDeGols_home: 12.434906%\n",
      "saldoDeGols_away: 12.162786%\n",
      "QtdVit10UltJAway: 7.361135%\n",
      "QtdVit10UltJHome: 5.763385%\n",
      "saldoGols5UltJHome: 4.469824%\n",
      "saldoGols5UltJAway: 4.228355%\n"
     ]
    }
   ],
   "source": [
    "features_importance = zip(model_rf.feature_importances_, features)\n",
    "for importance, feature in sorted(features_importance, reverse=True):\n",
    "    print(\"%s: %f%%\" % (feature, importance*100))"
   ]
  },
  {
   "cell_type": "code",
   "execution_count": null,
   "metadata": {},
   "outputs": [],
   "source": []
  },
  {
   "cell_type": "code",
   "execution_count": null,
   "metadata": {},
   "outputs": [],
   "source": []
  },
  {
   "cell_type": "code",
   "execution_count": null,
   "metadata": {},
   "outputs": [],
   "source": []
  },
  {
   "cell_type": "code",
   "execution_count": 241,
   "metadata": {},
   "outputs": [],
   "source": [
    "#Quantidade de Vezes que foi para final\n",
    "finalistas = pd.concat([jogosCopa[jogosCopa['Stage']=='Final'].groupby(['Home Team Name'])['Home Team Name'].count(),\n",
    "                        jogosCopa[jogosCopa['Stage']=='Final'].groupby(['Away Team Name'])['Away Team Name'].count()])\n"
   ]
  },
  {
   "cell_type": "code",
   "execution_count": 242,
   "metadata": {},
   "outputs": [],
   "source": [
    "#vencedores"
   ]
  },
  {
   "cell_type": "code",
   "execution_count": 243,
   "metadata": {},
   "outputs": [
    {
     "data": {
      "text/plain": [
       "country_full\n",
       "Kosovo                      1.796610\n",
       "South Sudan                 1.537736\n",
       "Türkiye                     1.500000\n",
       "São Tomé e Príncipe         1.000000\n",
       "St. Vincent / Grenadines    0.579710\n",
       "Serbia and Montenegro       0.395349\n",
       "Bermuda                     0.344720\n",
       "San Marino                  0.310204\n",
       "Malta                       0.295031\n",
       "São Tomé and Príncipe       0.260870\n",
       "Name: rank_change, dtype: float64"
      ]
     },
     "execution_count": 243,
     "metadata": {},
     "output_type": "execute_result"
    }
   ],
   "source": [
    "ranking.groupby(['country_full'])['rank_change'].mean().sort_values(ascending=False).head(10)"
   ]
  },
  {
   "cell_type": "code",
   "execution_count": 244,
   "metadata": {},
   "outputs": [
    {
     "data": {
      "text/plain": [
       "Year\n",
       "1930.0    18\n",
       "1934.0    17\n",
       "1938.0    18\n",
       "1950.0    22\n",
       "1954.0    26\n",
       "1958.0    35\n",
       "1962.0    32\n",
       "1966.0    32\n",
       "1970.0    32\n",
       "1974.0    38\n",
       "1978.0    38\n",
       "1982.0    52\n",
       "1986.0    52\n",
       "1990.0    52\n",
       "1994.0    52\n",
       "1998.0    64\n",
       "2002.0    64\n",
       "2006.0    64\n",
       "2010.0    64\n",
       "2014.0    63\n",
       "Name: Year, dtype: int64"
      ]
     },
     "execution_count": 244,
     "metadata": {},
     "output_type": "execute_result"
    }
   ],
   "source": [
    "jogosCopa.groupby(['Year'])['Year'].count()"
   ]
  },
  {
   "cell_type": "markdown",
   "metadata": {},
   "source": [
    "### Variaveis\n",
    "    var = { 'QTD_COPAS' :0, ✅\n",
    "            'QtdFinais' :0, ✅\n",
    "            'QtdSemi'   :0, ✅\n",
    "            'Ranking'   :0, ✅\n",
    "            'GOLS_COPAS':0,\n",
    "            'Vit_5ULT_J':0,\n",
    "            'Gol_5ULT_J':0\n",
    "            'VitPorPub': JogVit/Pub\n",
    "            \n",
    "    }"
   ]
  },
  {
   "cell_type": "code",
   "execution_count": 245,
   "metadata": {},
   "outputs": [
    {
     "data": {
      "text/plain": [
       "<AxesSubplot: xlabel='TargetCopa'>"
      ]
     },
     "execution_count": 245,
     "metadata": {},
     "output_type": "execute_result"
    },
    {
     "data": {
      "image/png": "[encoded data removed]",
      "text/plain": [
       "<Figure size 432x288 with 1 Axes>"
      ]
     },
     "metadata": {
      "needs_background": "light"
     },
     "output_type": "display_data"
    }
   ],
   "source": [
    "jogosCopa[jogosCopa['Stage']=='Final'].groupby(['TargetCopa'])['TargetCopa'].count().sort_values(ascending=False).plot.bar()"
   ]
  },
  {
   "cell_type": "code",
   "execution_count": 246,
   "metadata": {},
   "outputs": [
    {
     "data": {
      "text/plain": [
       "Germany           8.0\n",
       "Brazil            6.0\n",
       "Italy             6.0\n",
       "Argentina         5.0\n",
       "Netherlands       3.0\n",
       "Czechoslovakia    1.0\n",
       "England           1.0\n",
       "France            1.0\n",
       "Hungary           1.0\n",
       "Spain             1.0\n",
       "Sweden            1.0\n",
       "Uruguay           1.0\n",
       "dtype: float64"
      ]
     },
     "execution_count": 246,
     "metadata": {},
     "output_type": "execute_result"
    }
   ],
   "source": [
    "#Quantidade de Vezes que foi para final\n",
    "(jogosCopa[jogosCopa['Stage']=='Final'].groupby(['Home Team Name'])['Home Team Name'].count()+\\\n",
    " jogosCopa[jogosCopa['Stage']=='Final'].groupby(['Away Team Name'])['Away Team Name'].count()\n",
    ").fillna(1).sort_values(ascending=False)"
   ]
  },
  {
   "cell_type": "code",
   "execution_count": 247,
   "metadata": {},
   "outputs": [
    {
     "data": {
      "text/plain": [
       "<bound method PlotAccessor.bar of <pandas.plotting._core.PlotAccessor object at 0x7ffabab04370>>"
      ]
     },
     "execution_count": 247,
     "metadata": {},
     "output_type": "execute_result"
    }
   ],
   "source": [
    "(jogosCopa[jogosCopa['Stage']=='Final'].groupby(['Home Team Name'])['Home Team Name'].count()+\\\n",
    " jogosCopa[jogosCopa['Stage']=='Final'].groupby(['Away Team Name'])['Away Team Name'].count()\n",
    ").fillna(1).sort_values(ascending=False).plot.bar"
   ]
  },
  {
   "cell_type": "code",
   "execution_count": 248,
   "metadata": {},
   "outputs": [
    {
     "data": {
      "text/plain": [
       "Away Team Name\n",
       "Argentina         2\n",
       "Austria           2\n",
       "Belgium           1\n",
       "Brazil            2\n",
       "Chile             1\n",
       "Croatia           1\n",
       "England           1\n",
       "France            3\n",
       "Germany           5\n",
       "Italy             3\n",
       "Korea Republic    1\n",
       "Netherlands       2\n",
       "Portugal          1\n",
       "Soviet Union      1\n",
       "Spain             1\n",
       "Sweden            1\n",
       "Turkey            1\n",
       "USA               1\n",
       "Uruguay           2\n",
       "Yugoslavia        2\n",
       "Name: Away Team Name, dtype: int64"
      ]
     },
     "execution_count": 248,
     "metadata": {},
     "output_type": "execute_result"
    }
   ],
   "source": [
    "jogosCopa[jogosCopa['Stage']=='Semi-finals'].groupby(['Away Team Name'])['Away Team Name'].count()"
   ]
  },
  {
   "cell_type": "code",
   "execution_count": 249,
   "metadata": {},
   "outputs": [
    {
     "data": {
      "text/plain": [
       "Germany           12.0\n",
       "Brazil             8.0\n",
       "Italy              7.0\n",
       "France             5.0\n",
       "Uruguay            4.0\n",
       "Argentina          4.0\n",
       "Sweden             3.0\n",
       "Netherlands        3.0\n",
       "Portugal           2.0\n",
       "England            2.0\n",
       "Croatia            1.0\n",
       "Belgium            1.0\n",
       "USA                1.0\n",
       "Turkey             1.0\n",
       "Spain              1.0\n",
       "Soviet Union       1.0\n",
       "Poland             1.0\n",
       "Czechoslovakia     1.0\n",
       "Korea Republic     1.0\n",
       "Austria            1.0\n",
       "Hungary            1.0\n",
       "Bulgaria           1.0\n",
       "Chile              1.0\n",
       "Yugoslavia         1.0\n",
       "dtype: float64"
      ]
     },
     "execution_count": 249,
     "metadata": {},
     "output_type": "execute_result"
    }
   ],
   "source": [
    "#Quantidade de vezes que foi para Semifinais\n",
    "(jogosCopa[jogosCopa['Stage']=='Semi-finals'].groupby(['Home Team Name'])['Home Team Name'].count()+\\\n",
    " jogosCopa[jogosCopa['Stage']=='Semi-finals'].groupby(['Away Team Name'])['Away Team Name'].count()\n",
    ").fillna(1).sort_values(ascending=False)"
   ]
  },
  {
   "cell_type": "code",
   "execution_count": 250,
   "metadata": {},
   "outputs": [
    {
     "data": {
      "text/plain": [
       "Home Team Name\n",
       "Argentina         2\n",
       "Brazil            6\n",
       "Bulgaria          1\n",
       "Czechoslovakia    2\n",
       "England           1\n",
       "France            2\n",
       "Germany           7\n",
       "Hungary           2\n",
       "Italy             4\n",
       "Netherlands       1\n",
       "Poland            1\n",
       "Portugal          1\n",
       "Sweden            2\n",
       "Uruguay           2\n",
       "Name: Away Team Name, dtype: int64"
      ]
     },
     "execution_count": 250,
     "metadata": {},
     "output_type": "execute_result"
    }
   ],
   "source": [
    "jogosCopa[jogosCopa['Stage']=='Semi-finals'].groupby(['Home Team Name'])['Away Team Name'].count()"
   ]
  },
  {
   "cell_type": "code",
   "execution_count": 251,
   "metadata": {},
   "outputs": [
    {
     "data": {
      "text/plain": [
       "<AxesSubplot: >"
      ]
     },
     "execution_count": 251,
     "metadata": {},
     "output_type": "execute_result"
    },
    {
     "data": {
      "image/png": "[encoded data removed]",
      "text/plain": [
       "<Figure size 432x288 with 1 Axes>"
      ]
     },
     "metadata": {
      "needs_background": "light"
     },
     "output_type": "display_data"
    }
   ],
   "source": [
    "(jogosCopa[jogosCopa['Stage']=='Semi-finals'].groupby(['Home Team Name'])['Home Team Name'].count()+\\\n",
    " jogosCopa[jogosCopa['Stage']=='Semi-finals'].groupby(['Away Team Name'])['Away Team Name'].count()\n",
    ").fillna(1).sort_values(ascending=False).plot.bar()"
   ]
  },
  {
   "cell_type": "code",
   "execution_count": 252,
   "metadata": {},
   "outputs": [
    {
     "data": {
      "text/plain": [
       "Away Team Name\n",
       "Algeria                        7.0\n",
       "Angola                         1.0\n",
       "Argentina                     22.0\n",
       "Australia                      4.0\n",
       "Austria                       12.0\n",
       "                              ... \n",
       "rn\">Bosnia and Herzegovina     1.0\n",
       "rn\">Republic of Ireland        8.0\n",
       "rn\">Serbia and Montenegro      2.0\n",
       "rn\">Trinidad and Tobago        0.0\n",
       "rn\">United Arab Emirates       2.0\n",
       "Name: Away Team Goals, Length: 82, dtype: float64"
      ]
     },
     "execution_count": 252,
     "metadata": {},
     "output_type": "execute_result"
    }
   ],
   "source": [
    "# (jogosCopa.groupby(['Home Team Name'])['Home Team Goals'].sum() +\\\n",
    "jogosCopa.groupby(['Away Team Name'])['Away Team Goals'].sum()\n",
    "# ).sort_values(ascending=False)\n"
   ]
  },
  {
   "cell_type": "code",
   "execution_count": 253,
   "metadata": {},
   "outputs": [
    {
     "data": {
      "text/plain": [
       "country_full\n",
       "Brazil          3.111801\n",
       "Spain           5.580745\n",
       "Argentina       5.745342\n",
       "Germany         5.975155\n",
       "France          8.273292\n",
       "Italy           8.701863\n",
       "Netherlands     9.363354\n",
       "England         9.962733\n",
       "Portugal       10.894410\n",
       "Mexico         14.512422\n",
       "Name: rank, dtype: float64"
      ]
     },
     "execution_count": 253,
     "metadata": {},
     "output_type": "execute_result"
    }
   ],
   "source": [
    "ranking.groupby(['country_full'])['rank'].mean().sort_values().head(10)"
   ]
  },
  {
   "cell_type": "code",
   "execution_count": 254,
   "metadata": {},
   "outputs": [
    {
     "data": {
      "text/plain": [
       "array(['France', 'USA', 'Yugoslavia', 'Romania', 'Argentina', 'Chile',\n",
       "       'Uruguay', 'Brazil', 'Paraguay', 'Austria', 'Hungary',\n",
       "       'Switzerland', 'Sweden', 'Germany', 'Spain', 'Italy',\n",
       "       'Czechoslovakia', 'Cuba', 'England', 'Turkey', 'Soviet Union',\n",
       "       'Northern Ireland', 'Mexico', 'Wales', 'Portugal', 'Korea DPR',\n",
       "       'Peru', 'Belgium', 'Bulgaria', 'German DR', 'Zaire', 'Poland',\n",
       "       'Australia', 'Scotland', 'Netherlands', 'Haiti', 'Tunisia',\n",
       "       'Algeria', 'Honduras', 'Canada', 'Morocco', 'Korea Republic',\n",
       "       'Iraq', 'Denmark', 'rn\">United Arab Emirates', 'Costa Rica',\n",
       "       'Cameroon', 'rn\">Republic of Ireland', 'Colombia', 'Norway',\n",
       "       'Nigeria', 'Saudi Arabia', 'Bolivia', 'Russia', 'Greece',\n",
       "       'Jamaica', 'South Africa', 'Japan', 'Croatia', 'China PR',\n",
       "       'Senegal', 'Slovenia', 'Ecuador', 'rn\">Trinidad and Tobago',\n",
       "       'rn\">Serbia and Montenegro', 'Angola', 'Czech Republic', 'Togo',\n",
       "       'Iran', \"C�te d'Ivoire\", 'Ghana', 'Ukraine', 'Serbia',\n",
       "       'New Zealand', 'Slovakia', 'IR Iran', 'rn\">Bosnia and Herzegovina'],\n",
       "      dtype=object)"
      ]
     },
     "execution_count": 254,
     "metadata": {},
     "output_type": "execute_result"
    }
   ],
   "source": [
    "jogosCopa['Home Team Name'].unique()"
   ]
  },
  {
   "cell_type": "code",
   "execution_count": 255,
   "metadata": {},
   "outputs": [
    {
     "data": {
      "text/plain": [
       "Year\n",
       "1930.0    18\n",
       "1934.0    17\n",
       "1938.0    18\n",
       "1950.0    22\n",
       "1954.0    26\n",
       "1958.0    35\n",
       "1962.0    32\n",
       "1966.0    32\n",
       "1970.0    32\n",
       "1974.0    38\n",
       "1978.0    38\n",
       "1982.0    52\n",
       "1986.0    52\n",
       "1990.0    52\n",
       "1994.0    52\n",
       "1998.0    64\n",
       "2002.0    64\n",
       "2006.0    64\n",
       "2010.0    64\n",
       "2014.0    63\n",
       "Name: Year, dtype: int64"
      ]
     },
     "execution_count": 255,
     "metadata": {},
     "output_type": "execute_result"
    }
   ],
   "source": [
    "jogosCopa.groupby(['Year'])['Year'].count()"
   ]
  }
 ],
 "metadata": {
  "kernelspec": {
   "display_name": "Python 3.8.10 64-bit",
   "language": "python",
   "name": "python3"
  },
  "language_info": {
   "codemirror_mode": {
    "name": "ipython",
    "version": 3
   },
   "file_extension": ".py",
   "mimetype": "text/x-python",
   "name": "python",
   "nbconvert_exporter": "python",
   "pygments_lexer": "ipython3",
   "version": "3.8.10"
  },
  "orig_nbformat": 4,
  "vscode": {
   "interpreter": {
    "hash": "916dbcbb3f70747c44a77c7bcd40155683ae19c65e1c03b4aa3499c5328201f1"
   }
  }
 },
 "nbformat": 4,
 "nbformat_minor": 2
}
